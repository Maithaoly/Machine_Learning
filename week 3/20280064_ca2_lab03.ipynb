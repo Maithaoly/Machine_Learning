{
 "cells": [
  {
   "cell_type": "markdown",
   "metadata": {},
   "source": [
    "### MAI THỊ THẢO LY - 20280064 - KHDL"
   ]
  },
  {
   "cell_type": "markdown",
   "metadata": {
    "id": "_GIq8Io_8Koq"
   },
   "source": [
    "1. Analyze and Preprocess data - Check if the dataset has missing values or has any other problem.\n",
    "2. Feature Engineering\n",
    "3. Divide the dataset into 2 training and test sets\n",
    "4. Use Pipeline\n",
    "    4. a. Use scaler and dimensional reduction (if it is necessary).\n",
    "    4. b. Use suitable Naive Bayes for this problem. \n",
    "5. Perform model on training set and test set using gridsearch CV\n",
    "6. Measure performance of the model.\n",
    "7. Which metric is your main metric for this problem and why? What are your scaler, dimensional reduction and naive bayes model as well as their params? (<= 200 words, also input your opinion or conclusion here)\n",
    "\n",
    "\n",
    "How can I measure your point:\n",
    "1. Your function is callable and runs correctly\n",
    "2. The performance of your model (in full pipeline) is acceptable. The final error based on my train and test set is low enough.\n",
    "3. The data preprocessing is correct or make sense\n",
    "4. The Feature engineering is correct or make sense\n",
    "5. Any other additional process will be considered a small plus point."
   ]
  },
  {
   "cell_type": "markdown",
   "metadata": {
    "id": "SjhjJmx68Kou"
   },
   "source": [
    "A Travel Company Is Offering Travel Insurance Packages To Their Customers. The new insurance plan also covers Covid-19. The Company Claims To Know Which Customers Are Interested To Buy It Based On The Company's Database History.\n",
    "\n",
    "* Age - Age Of The Customer\n",
    "* Employment Type - The Sector In Which Customer Is Employed\n",
    "GraduateOrNot - Whether The Customer Is College Graduate Or Not\n",
    "* AnnualIncome - The Yearly Income Of The Customer In Indian Rupees\n",
    "* FamilyMembers - Number Of Members In Customer's Family\n",
    "* ChronicDisease - Whether The Customer Suffers From Any Major Disease Or Conditions Like Diabetes/High BP or Asthama,etc.\n",
    "* FrequentFlyer - Derived Data Based On Customer's History Of Booking Air Tickets On Atleast 4 Different Instances In The Last 2 Years (2017-2019).\n",
    "* EverTravelledAbroad - Has The Customer Ever Travelled To A Foreign Country\n",
    "* TravelInsurance - Did The Customer Buy Travel Insurance Package During Introductory Offering Held In The Year 2019."
   ]
  },
  {
   "cell_type": "markdown",
   "metadata": {
    "id": "iDJN7fbU8Kov"
   },
   "source": [
    "## Load Dataset"
   ]
  },
  {
   "cell_type": "code",
   "execution_count": 1,
   "metadata": {
    "colab": {
     "base_uri": "https://localhost:8080/"
    },
    "executionInfo": {
     "elapsed": 44369,
     "status": "ok",
     "timestamp": 1681559041825,
     "user": {
      "displayName": "Dac Nguyen",
      "userId": "01275678335241040197"
     },
     "user_tz": -420
    },
    "id": "YfmW1_KdudmQ",
    "outputId": "d7688652-06a4-4749-885d-3517d1a2bd73"
   },
   "outputs": [],
   "source": [
    "import pandas as pd\n",
    "import numpy as np\n",
    "import matplotlib.pyplot as plt\n",
    "import seaborn as sns\n",
    "#from google.colab import drive\n",
    "\n",
    "#drive.mount(\"/content/drive\")"
   ]
  },
  {
   "cell_type": "code",
   "execution_count": 2,
   "metadata": {
    "colab": {
     "base_uri": "https://localhost:8080/",
     "height": 204
    },
    "executionInfo": {
     "elapsed": 2187,
     "status": "ok",
     "timestamp": 1681559058159,
     "user": {
      "displayName": "Dac Nguyen",
      "userId": "01275678335241040197"
     },
     "user_tz": -420
    },
    "id": "G8aJO4Rj8Kov",
    "outputId": "91bc6e50-30bd-4bb6-b06b-6583f0db557c"
   },
   "outputs": [
    {
     "data": {
      "text/html": [
       "<div>\n",
       "<style scoped>\n",
       "    .dataframe tbody tr th:only-of-type {\n",
       "        vertical-align: middle;\n",
       "    }\n",
       "\n",
       "    .dataframe tbody tr th {\n",
       "        vertical-align: top;\n",
       "    }\n",
       "\n",
       "    .dataframe thead th {\n",
       "        text-align: right;\n",
       "    }\n",
       "</style>\n",
       "<table border=\"1\" class=\"dataframe\">\n",
       "  <thead>\n",
       "    <tr style=\"text-align: right;\">\n",
       "      <th></th>\n",
       "      <th>Unnamed: 0</th>\n",
       "      <th>Age</th>\n",
       "      <th>Employment Type</th>\n",
       "      <th>GraduateOrNot</th>\n",
       "      <th>AnnualIncome</th>\n",
       "      <th>FamilyMembers</th>\n",
       "      <th>ChronicDiseases</th>\n",
       "      <th>FrequentFlyer</th>\n",
       "      <th>EverTravelledAbroad</th>\n",
       "      <th>TravelInsurance</th>\n",
       "    </tr>\n",
       "  </thead>\n",
       "  <tbody>\n",
       "    <tr>\n",
       "      <th>0</th>\n",
       "      <td>0</td>\n",
       "      <td>31</td>\n",
       "      <td>Government Sector</td>\n",
       "      <td>Yes</td>\n",
       "      <td>400000</td>\n",
       "      <td>6</td>\n",
       "      <td>1</td>\n",
       "      <td>No</td>\n",
       "      <td>No</td>\n",
       "      <td>0</td>\n",
       "    </tr>\n",
       "    <tr>\n",
       "      <th>1</th>\n",
       "      <td>1</td>\n",
       "      <td>31</td>\n",
       "      <td>Private Sector/Self Employed</td>\n",
       "      <td>Yes</td>\n",
       "      <td>1250000</td>\n",
       "      <td>7</td>\n",
       "      <td>0</td>\n",
       "      <td>No</td>\n",
       "      <td>No</td>\n",
       "      <td>0</td>\n",
       "    </tr>\n",
       "    <tr>\n",
       "      <th>2</th>\n",
       "      <td>2</td>\n",
       "      <td>34</td>\n",
       "      <td>Private Sector/Self Employed</td>\n",
       "      <td>Yes</td>\n",
       "      <td>500000</td>\n",
       "      <td>4</td>\n",
       "      <td>1</td>\n",
       "      <td>No</td>\n",
       "      <td>No</td>\n",
       "      <td>1</td>\n",
       "    </tr>\n",
       "    <tr>\n",
       "      <th>3</th>\n",
       "      <td>3</td>\n",
       "      <td>28</td>\n",
       "      <td>Private Sector/Self Employed</td>\n",
       "      <td>Yes</td>\n",
       "      <td>700000</td>\n",
       "      <td>3</td>\n",
       "      <td>1</td>\n",
       "      <td>No</td>\n",
       "      <td>No</td>\n",
       "      <td>0</td>\n",
       "    </tr>\n",
       "    <tr>\n",
       "      <th>4</th>\n",
       "      <td>4</td>\n",
       "      <td>28</td>\n",
       "      <td>Private Sector/Self Employed</td>\n",
       "      <td>Yes</td>\n",
       "      <td>700000</td>\n",
       "      <td>8</td>\n",
       "      <td>1</td>\n",
       "      <td>Yes</td>\n",
       "      <td>No</td>\n",
       "      <td>0</td>\n",
       "    </tr>\n",
       "  </tbody>\n",
       "</table>\n",
       "</div>"
      ],
      "text/plain": [
       "   Unnamed: 0  Age               Employment Type GraduateOrNot  AnnualIncome  \\\n",
       "0           0   31             Government Sector           Yes        400000   \n",
       "1           1   31  Private Sector/Self Employed           Yes       1250000   \n",
       "2           2   34  Private Sector/Self Employed           Yes        500000   \n",
       "3           3   28  Private Sector/Self Employed           Yes        700000   \n",
       "4           4   28  Private Sector/Self Employed           Yes        700000   \n",
       "\n",
       "   FamilyMembers  ChronicDiseases FrequentFlyer EverTravelledAbroad  \\\n",
       "0              6                1            No                  No   \n",
       "1              7                0            No                  No   \n",
       "2              4                1            No                  No   \n",
       "3              3                1            No                  No   \n",
       "4              8                1           Yes                  No   \n",
       "\n",
       "   TravelInsurance  \n",
       "0                0  \n",
       "1                0  \n",
       "2                1  \n",
       "3                0  \n",
       "4                0  "
      ]
     },
     "execution_count": 2,
     "metadata": {},
     "output_type": "execute_result"
    }
   ],
   "source": [
    "import pandas as pd\n",
    "PATH = \"TravelInsurancePrediction.csv\" # Path to your file\n",
    "\n",
    "df = pd.read_csv(PATH)\n",
    "df.head()"
   ]
  },
  {
   "cell_type": "code",
   "execution_count": 3,
   "metadata": {},
   "outputs": [
    {
     "name": "stdout",
     "output_type": "stream",
     "text": [
      "<class 'pandas.core.frame.DataFrame'>\n",
      "RangeIndex: 1987 entries, 0 to 1986\n",
      "Data columns (total 10 columns):\n",
      " #   Column               Non-Null Count  Dtype \n",
      "---  ------               --------------  ----- \n",
      " 0   Unnamed: 0           1987 non-null   int64 \n",
      " 1   Age                  1987 non-null   int64 \n",
      " 2   Employment Type      1987 non-null   object\n",
      " 3   GraduateOrNot        1987 non-null   object\n",
      " 4   AnnualIncome         1987 non-null   int64 \n",
      " 5   FamilyMembers        1987 non-null   int64 \n",
      " 6   ChronicDiseases      1987 non-null   int64 \n",
      " 7   FrequentFlyer        1987 non-null   object\n",
      " 8   EverTravelledAbroad  1987 non-null   object\n",
      " 9   TravelInsurance      1987 non-null   int64 \n",
      "dtypes: int64(6), object(4)\n",
      "memory usage: 155.4+ KB\n"
     ]
    }
   ],
   "source": [
    "df.info()"
   ]
  },
  {
   "cell_type": "code",
   "execution_count": 4,
   "metadata": {},
   "outputs": [
    {
     "name": "stdout",
     "output_type": "stream",
     "text": [
      "Qualitative and Quantitative columns \n",
      "\n",
      "         Unnamed: 0          Age               Employment Type GraduateOrNot  \\\n",
      "count   1987.000000  1987.000000                          1987          1987   \n",
      "unique          NaN          NaN                             2             2   \n",
      "top             NaN          NaN  Private Sector/Self Employed           Yes   \n",
      "freq            NaN          NaN                          1417          1692   \n",
      "mean     993.000000    29.650226                           NaN           NaN   \n",
      "std      573.741812     2.913308                           NaN           NaN   \n",
      "min        0.000000    25.000000                           NaN           NaN   \n",
      "25%      496.500000    28.000000                           NaN           NaN   \n",
      "50%      993.000000    29.000000                           NaN           NaN   \n",
      "75%     1489.500000    32.000000                           NaN           NaN   \n",
      "max     1986.000000    35.000000                           NaN           NaN   \n",
      "\n",
      "        AnnualIncome  FamilyMembers  ChronicDiseases FrequentFlyer  \\\n",
      "count   1.987000e+03    1987.000000      1987.000000          1987   \n",
      "unique           NaN            NaN              NaN             2   \n",
      "top              NaN            NaN              NaN            No   \n",
      "freq             NaN            NaN              NaN          1570   \n",
      "mean    9.327630e+05       4.752894         0.277806           NaN   \n",
      "std     3.768557e+05       1.609650         0.448030           NaN   \n",
      "min     3.000000e+05       2.000000         0.000000           NaN   \n",
      "25%     6.000000e+05       4.000000         0.000000           NaN   \n",
      "50%     9.000000e+05       5.000000         0.000000           NaN   \n",
      "75%     1.250000e+06       6.000000         1.000000           NaN   \n",
      "max     1.800000e+06       9.000000         1.000000           NaN   \n",
      "\n",
      "       EverTravelledAbroad  TravelInsurance  \n",
      "count                 1987      1987.000000  \n",
      "unique                   2              NaN  \n",
      "top                     No              NaN  \n",
      "freq                  1607              NaN  \n",
      "mean                   NaN         0.357323  \n",
      "std                    NaN         0.479332  \n",
      "min                    NaN         0.000000  \n",
      "25%                    NaN         0.000000  \n",
      "50%                    NaN         0.000000  \n",
      "75%                    NaN         1.000000  \n",
      "max                    NaN         1.000000  \n"
     ]
    }
   ],
   "source": [
    "print(\"Qualitative and Quantitative columns \\n\")\n",
    "print(df.describe(include=[object, int]))"
   ]
  },
  {
   "cell_type": "code",
   "execution_count": 5,
   "metadata": {},
   "outputs": [
    {
     "data": {
      "text/plain": [
       "array([[<AxesSubplot:title={'center':'Unnamed: 0'}>,\n",
       "        <AxesSubplot:title={'center':'Age'}>],\n",
       "       [<AxesSubplot:title={'center':'AnnualIncome'}>,\n",
       "        <AxesSubplot:title={'center':'FamilyMembers'}>],\n",
       "       [<AxesSubplot:title={'center':'ChronicDiseases'}>,\n",
       "        <AxesSubplot:title={'center':'TravelInsurance'}>]], dtype=object)"
      ]
     },
     "execution_count": 5,
     "metadata": {},
     "output_type": "execute_result"
    },
    {
     "data": {
      "image/png": "[encoded data removed]",
      "text/plain": [
       "<Figure size 720x720 with 6 Axes>"
      ]
     },
     "metadata": {
      "needs_background": "light"
     },
     "output_type": "display_data"
    }
   ],
   "source": [
    "# histogram of dataframe\n",
    "df.hist(figsize=(10,10))"
   ]
  },
  {
   "cell_type": "markdown",
   "metadata": {
    "id": "mk4IrtwS8Kow"
   },
   "source": [
    "## Data Analysis"
   ]
  },
  {
   "cell_type": "code",
   "execution_count": 6,
   "metadata": {},
   "outputs": [],
   "source": [
    "# Get categorical columns and numerical columns\n",
    "categorical_cols = [feature for feature in df.columns if df[feature].dtype == \"O\"]\n",
    "numerical_cols = [feature for feature in df.columns if df[feature].dtype != \"O\"]"
   ]
  },
  {
   "cell_type": "code",
   "execution_count": 7,
   "metadata": {},
   "outputs": [
    {
     "data": {
      "text/plain": [
       "Employment Type        0\n",
       "GraduateOrNot          0\n",
       "FrequentFlyer          0\n",
       "EverTravelledAbroad    0\n",
       "dtype: int64"
      ]
     },
     "execution_count": 7,
     "metadata": {},
     "output_type": "execute_result"
    }
   ],
   "source": [
    "# Check Missing values\n",
    "df[categorical_cols].isnull().sum()"
   ]
  },
  {
   "cell_type": "code",
   "execution_count": 8,
   "metadata": {},
   "outputs": [
    {
     "data": {
      "text/plain": [
       "Unnamed: 0         0\n",
       "Age                0\n",
       "AnnualIncome       0\n",
       "FamilyMembers      0\n",
       "ChronicDiseases    0\n",
       "TravelInsurance    0\n",
       "dtype: int64"
      ]
     },
     "execution_count": 8,
     "metadata": {},
     "output_type": "execute_result"
    }
   ],
   "source": [
    "df[numerical_cols].isnull().sum()"
   ]
  },
  {
   "cell_type": "code",
   "execution_count": 9,
   "metadata": {},
   "outputs": [
    {
     "data": {
      "image/png": "[encoded data removed]",
      "text/plain": [
       "<Figure size 1008x864 with 6 Axes>"
      ]
     },
     "metadata": {
      "needs_background": "light"
     },
     "output_type": "display_data"
    }
   ],
   "source": [
    "fig, axes=plt.subplots(len(numerical_cols), 1, figsize=(14, 2*len(numerical_cols)),sharex=False,sharey=False)\n",
    "\n",
    "for i, column in enumerate(numerical_cols):\n",
    "    sns.boxplot(x=column,data=df,palette='pastel',ax=axes[i])\n",
    "plt.tight_layout(pad=2.0)"
   ]
  },
  {
   "cell_type": "code",
   "execution_count": 10,
   "metadata": {},
   "outputs": [
    {
     "data": {
      "text/plain": [
       "<AxesSubplot:xlabel='Age', ylabel='Count'>"
      ]
     },
     "execution_count": 10,
     "metadata": {},
     "output_type": "execute_result"
    },
    {
     "data": {
      "image/png": "[encoded data removed]",
      "text/plain": [
       "<Figure size 432x288 with 1 Axes>"
      ]
     },
     "metadata": {
      "needs_background": "light"
     },
     "output_type": "display_data"
    }
   ],
   "source": [
    "sns.histplot(x=\"Age\", data=df)"
   ]
  },
  {
   "cell_type": "code",
   "execution_count": 11,
   "metadata": {},
   "outputs": [
    {
     "data": {
      "text/plain": [
       "<AxesSubplot:xlabel='AnnualIncome', ylabel='Count'>"
      ]
     },
     "execution_count": 11,
     "metadata": {},
     "output_type": "execute_result"
    },
    {
     "data": {
      "image/png": "[encoded data removed]",
      "text/plain": [
       "<Figure size 432x288 with 1 Axes>"
      ]
     },
     "metadata": {
      "needs_background": "light"
     },
     "output_type": "display_data"
    }
   ],
   "source": [
    "sns.histplot(x=\"AnnualIncome\", data=df)"
   ]
  },
  {
   "cell_type": "code",
   "execution_count": 12,
   "metadata": {},
   "outputs": [
    {
     "data": {
      "text/plain": [
       "<AxesSubplot:xlabel='FamilyMembers', ylabel='Count'>"
      ]
     },
     "execution_count": 12,
     "metadata": {},
     "output_type": "execute_result"
    },
    {
     "data": {
      "image/png": "[encoded data removed]",
      "text/plain": [
       "<Figure size 432x288 with 1 Axes>"
      ]
     },
     "metadata": {
      "needs_background": "light"
     },
     "output_type": "display_data"
    }
   ],
   "source": [
    "sns.histplot(x=\"FamilyMembers\", data=df)"
   ]
  },
  {
   "cell_type": "code",
   "execution_count": 13,
   "metadata": {},
   "outputs": [
    {
     "data": {
      "text/plain": [
       "<AxesSubplot:xlabel='count', ylabel='Employment Type'>"
      ]
     },
     "execution_count": 13,
     "metadata": {},
     "output_type": "execute_result"
    },
    {
     "data": {
      "image/png": "[encoded data removed]",
      "text/plain": [
       "<Figure size 432x288 with 1 Axes>"
      ]
     },
     "metadata": {
      "needs_background": "light"
     },
     "output_type": "display_data"
    }
   ],
   "source": [
    "sns.countplot(y=\"Employment Type\", data=df, hue=\"TravelInsurance\")"
   ]
  },
  {
   "cell_type": "code",
   "execution_count": 14,
   "metadata": {},
   "outputs": [
    {
     "data": {
      "text/plain": [
       "<AxesSubplot:xlabel='count', ylabel='GraduateOrNot'>"
      ]
     },
     "execution_count": 14,
     "metadata": {},
     "output_type": "execute_result"
    },
    {
     "data": {
      "image/png": "[encoded data removed]",
      "text/plain": [
       "<Figure size 432x288 with 1 Axes>"
      ]
     },
     "metadata": {
      "needs_background": "light"
     },
     "output_type": "display_data"
    }
   ],
   "source": [
    "sns.countplot(y=\"GraduateOrNot\", data=df, hue=\"TravelInsurance\")"
   ]
  },
  {
   "cell_type": "code",
   "execution_count": 15,
   "metadata": {},
   "outputs": [
    {
     "data": {
      "text/plain": [
       "<AxesSubplot:xlabel='count', ylabel='FrequentFlyer'>"
      ]
     },
     "execution_count": 15,
     "metadata": {},
     "output_type": "execute_result"
    },
    {
     "data": {
      "image/png": "[encoded data removed]",
      "text/plain": [
       "<Figure size 432x288 with 1 Axes>"
      ]
     },
     "metadata": {
      "needs_background": "light"
     },
     "output_type": "display_data"
    }
   ],
   "source": [
    "sns.countplot(y=\"FrequentFlyer\", data=df, hue=\"TravelInsurance\")"
   ]
  },
  {
   "cell_type": "code",
   "execution_count": 16,
   "metadata": {},
   "outputs": [
    {
     "data": {
      "text/plain": [
       "<AxesSubplot:xlabel='count', ylabel='EverTravelledAbroad'>"
      ]
     },
     "execution_count": 16,
     "metadata": {},
     "output_type": "execute_result"
    },
    {
     "data": {
      "image/png": "[encoded data removed]",
      "text/plain": [
       "<Figure size 432x288 with 1 Axes>"
      ]
     },
     "metadata": {
      "needs_background": "light"
     },
     "output_type": "display_data"
    }
   ],
   "source": [
    "sns.countplot(y=\"EverTravelledAbroad\", data=df, hue=\"TravelInsurance\")"
   ]
  },
  {
   "cell_type": "code",
   "execution_count": 17,
   "metadata": {},
   "outputs": [
    {
     "data": {
      "text/plain": [
       "<AxesSubplot:xlabel='TravelInsurance', ylabel='Count'>"
      ]
     },
     "execution_count": 17,
     "metadata": {},
     "output_type": "execute_result"
    },
    {
     "data": {
      "image/png": "[encoded data removed]",
      "text/plain": [
       "<Figure size 432x288 with 1 Axes>"
      ]
     },
     "metadata": {
      "needs_background": "light"
     },
     "output_type": "display_data"
    }
   ],
   "source": [
    "# label\n",
    "sns.histplot(x=\"TravelInsurance\", data=df)"
   ]
  },
  {
   "cell_type": "code",
   "execution_count": 18,
   "metadata": {},
   "outputs": [
    {
     "data": {
      "text/plain": [
       "<AxesSubplot:>"
      ]
     },
     "execution_count": 18,
     "metadata": {},
     "output_type": "execute_result"
    },
    {
     "data": {
      "image/png": "[encoded data removed]",
      "text/plain": [
       "<Figure size 720x360 with 2 Axes>"
      ]
     },
     "metadata": {
      "needs_background": "light"
     },
     "output_type": "display_data"
    }
   ],
   "source": [
    "plt.figure(figsize=(10, 5))\n",
    "sns.heatmap(df.corr(), cmap=\"summer\")"
   ]
  },
  {
   "cell_type": "markdown",
   "metadata": {
    "id": "flqsM83K8Kox"
   },
   "source": [
    "## Preprocessing"
   ]
  },
  {
   "cell_type": "code",
   "execution_count": 19,
   "metadata": {
    "id": "BsLrFNP-8Kox"
   },
   "outputs": [],
   "source": [
    "def preprocessing_data(df):\n",
    "    df.drop(\"Unnamed: 0\", axis=1, inplace=True)\n",
    "    return df"
   ]
  },
  {
   "cell_type": "code",
   "execution_count": 20,
   "metadata": {
    "id": "dei_gmKb8Koy"
   },
   "outputs": [
    {
     "data": {
      "text/html": [
       "<div>\n",
       "<style scoped>\n",
       "    .dataframe tbody tr th:only-of-type {\n",
       "        vertical-align: middle;\n",
       "    }\n",
       "\n",
       "    .dataframe tbody tr th {\n",
       "        vertical-align: top;\n",
       "    }\n",
       "\n",
       "    .dataframe thead th {\n",
       "        text-align: right;\n",
       "    }\n",
       "</style>\n",
       "<table border=\"1\" class=\"dataframe\">\n",
       "  <thead>\n",
       "    <tr style=\"text-align: right;\">\n",
       "      <th></th>\n",
       "      <th>Age</th>\n",
       "      <th>Employment Type</th>\n",
       "      <th>GraduateOrNot</th>\n",
       "      <th>AnnualIncome</th>\n",
       "      <th>FamilyMembers</th>\n",
       "      <th>ChronicDiseases</th>\n",
       "      <th>FrequentFlyer</th>\n",
       "      <th>EverTravelledAbroad</th>\n",
       "      <th>TravelInsurance</th>\n",
       "    </tr>\n",
       "  </thead>\n",
       "  <tbody>\n",
       "    <tr>\n",
       "      <th>0</th>\n",
       "      <td>31</td>\n",
       "      <td>Government Sector</td>\n",
       "      <td>Yes</td>\n",
       "      <td>400000</td>\n",
       "      <td>6</td>\n",
       "      <td>1</td>\n",
       "      <td>No</td>\n",
       "      <td>No</td>\n",
       "      <td>0</td>\n",
       "    </tr>\n",
       "    <tr>\n",
       "      <th>1</th>\n",
       "      <td>31</td>\n",
       "      <td>Private Sector/Self Employed</td>\n",
       "      <td>Yes</td>\n",
       "      <td>1250000</td>\n",
       "      <td>7</td>\n",
       "      <td>0</td>\n",
       "      <td>No</td>\n",
       "      <td>No</td>\n",
       "      <td>0</td>\n",
       "    </tr>\n",
       "    <tr>\n",
       "      <th>2</th>\n",
       "      <td>34</td>\n",
       "      <td>Private Sector/Self Employed</td>\n",
       "      <td>Yes</td>\n",
       "      <td>500000</td>\n",
       "      <td>4</td>\n",
       "      <td>1</td>\n",
       "      <td>No</td>\n",
       "      <td>No</td>\n",
       "      <td>1</td>\n",
       "    </tr>\n",
       "    <tr>\n",
       "      <th>3</th>\n",
       "      <td>28</td>\n",
       "      <td>Private Sector/Self Employed</td>\n",
       "      <td>Yes</td>\n",
       "      <td>700000</td>\n",
       "      <td>3</td>\n",
       "      <td>1</td>\n",
       "      <td>No</td>\n",
       "      <td>No</td>\n",
       "      <td>0</td>\n",
       "    </tr>\n",
       "    <tr>\n",
       "      <th>4</th>\n",
       "      <td>28</td>\n",
       "      <td>Private Sector/Self Employed</td>\n",
       "      <td>Yes</td>\n",
       "      <td>700000</td>\n",
       "      <td>8</td>\n",
       "      <td>1</td>\n",
       "      <td>Yes</td>\n",
       "      <td>No</td>\n",
       "      <td>0</td>\n",
       "    </tr>\n",
       "  </tbody>\n",
       "</table>\n",
       "</div>"
      ],
      "text/plain": [
       "   Age               Employment Type GraduateOrNot  AnnualIncome  \\\n",
       "0   31             Government Sector           Yes        400000   \n",
       "1   31  Private Sector/Self Employed           Yes       1250000   \n",
       "2   34  Private Sector/Self Employed           Yes        500000   \n",
       "3   28  Private Sector/Self Employed           Yes        700000   \n",
       "4   28  Private Sector/Self Employed           Yes        700000   \n",
       "\n",
       "   FamilyMembers  ChronicDiseases FrequentFlyer EverTravelledAbroad  \\\n",
       "0              6                1            No                  No   \n",
       "1              7                0            No                  No   \n",
       "2              4                1            No                  No   \n",
       "3              3                1            No                  No   \n",
       "4              8                1           Yes                  No   \n",
       "\n",
       "   TravelInsurance  \n",
       "0                0  \n",
       "1                0  \n",
       "2                1  \n",
       "3                0  \n",
       "4                0  "
      ]
     },
     "execution_count": 20,
     "metadata": {},
     "output_type": "execute_result"
    }
   ],
   "source": [
    "df = preprocessing_data(df.copy())\n",
    "df.head()"
   ]
  },
  {
   "cell_type": "markdown",
   "metadata": {
    "id": "Zi5s_ZP48Koy"
   },
   "source": [
    "## Feature Engineering"
   ]
  },
  {
   "cell_type": "code",
   "execution_count": 21,
   "metadata": {
    "id": "6VQVAmTx8Koy"
   },
   "outputs": [
    {
     "data": {
      "text/html": [
       "<div>\n",
       "<style scoped>\n",
       "    .dataframe tbody tr th:only-of-type {\n",
       "        vertical-align: middle;\n",
       "    }\n",
       "\n",
       "    .dataframe tbody tr th {\n",
       "        vertical-align: top;\n",
       "    }\n",
       "\n",
       "    .dataframe thead th {\n",
       "        text-align: right;\n",
       "    }\n",
       "</style>\n",
       "<table border=\"1\" class=\"dataframe\">\n",
       "  <thead>\n",
       "    <tr style=\"text-align: right;\">\n",
       "      <th></th>\n",
       "      <th>Age</th>\n",
       "      <th>Employment Type</th>\n",
       "      <th>GraduateOrNot</th>\n",
       "      <th>AnnualIncome</th>\n",
       "      <th>FamilyMembers</th>\n",
       "      <th>ChronicDiseases</th>\n",
       "      <th>FrequentFlyer</th>\n",
       "      <th>EverTravelledAbroad</th>\n",
       "      <th>TravelInsurance</th>\n",
       "    </tr>\n",
       "  </thead>\n",
       "  <tbody>\n",
       "    <tr>\n",
       "      <th>0</th>\n",
       "      <td>31</td>\n",
       "      <td>0</td>\n",
       "      <td>1</td>\n",
       "      <td>400000</td>\n",
       "      <td>6</td>\n",
       "      <td>1</td>\n",
       "      <td>0</td>\n",
       "      <td>0</td>\n",
       "      <td>0</td>\n",
       "    </tr>\n",
       "    <tr>\n",
       "      <th>1</th>\n",
       "      <td>31</td>\n",
       "      <td>1</td>\n",
       "      <td>1</td>\n",
       "      <td>1250000</td>\n",
       "      <td>7</td>\n",
       "      <td>0</td>\n",
       "      <td>0</td>\n",
       "      <td>0</td>\n",
       "      <td>0</td>\n",
       "    </tr>\n",
       "    <tr>\n",
       "      <th>2</th>\n",
       "      <td>34</td>\n",
       "      <td>1</td>\n",
       "      <td>1</td>\n",
       "      <td>500000</td>\n",
       "      <td>4</td>\n",
       "      <td>1</td>\n",
       "      <td>0</td>\n",
       "      <td>0</td>\n",
       "      <td>1</td>\n",
       "    </tr>\n",
       "    <tr>\n",
       "      <th>3</th>\n",
       "      <td>28</td>\n",
       "      <td>1</td>\n",
       "      <td>1</td>\n",
       "      <td>700000</td>\n",
       "      <td>3</td>\n",
       "      <td>1</td>\n",
       "      <td>0</td>\n",
       "      <td>0</td>\n",
       "      <td>0</td>\n",
       "    </tr>\n",
       "    <tr>\n",
       "      <th>4</th>\n",
       "      <td>28</td>\n",
       "      <td>1</td>\n",
       "      <td>1</td>\n",
       "      <td>700000</td>\n",
       "      <td>8</td>\n",
       "      <td>1</td>\n",
       "      <td>1</td>\n",
       "      <td>0</td>\n",
       "      <td>0</td>\n",
       "    </tr>\n",
       "  </tbody>\n",
       "</table>\n",
       "</div>"
      ],
      "text/plain": [
       "   Age  Employment Type  GraduateOrNot  AnnualIncome  FamilyMembers  \\\n",
       "0   31                0              1        400000              6   \n",
       "1   31                1              1       1250000              7   \n",
       "2   34                1              1        500000              4   \n",
       "3   28                1              1        700000              3   \n",
       "4   28                1              1        700000              8   \n",
       "\n",
       "   ChronicDiseases  FrequentFlyer  EverTravelledAbroad  TravelInsurance  \n",
       "0                1              0                    0                0  \n",
       "1                0              0                    0                0  \n",
       "2                1              0                    0                1  \n",
       "3                1              0                    0                0  \n",
       "4                1              1                    0                0  "
      ]
     },
     "metadata": {},
     "output_type": "display_data"
    },
    {
     "data": {
      "text/html": [
       "<div>\n",
       "<style scoped>\n",
       "    .dataframe tbody tr th:only-of-type {\n",
       "        vertical-align: middle;\n",
       "    }\n",
       "\n",
       "    .dataframe tbody tr th {\n",
       "        vertical-align: top;\n",
       "    }\n",
       "\n",
       "    .dataframe thead th {\n",
       "        text-align: right;\n",
       "    }\n",
       "</style>\n",
       "<table border=\"1\" class=\"dataframe\">\n",
       "  <thead>\n",
       "    <tr style=\"text-align: right;\">\n",
       "      <th></th>\n",
       "      <th>Age</th>\n",
       "      <th>Employment Type</th>\n",
       "      <th>GraduateOrNot</th>\n",
       "      <th>AnnualIncome</th>\n",
       "      <th>FamilyMembers</th>\n",
       "      <th>ChronicDiseases</th>\n",
       "      <th>FrequentFlyer</th>\n",
       "      <th>EverTravelledAbroad</th>\n",
       "      <th>TravelInsurance</th>\n",
       "    </tr>\n",
       "  </thead>\n",
       "  <tbody>\n",
       "    <tr>\n",
       "      <th>Age</th>\n",
       "      <td>1.000000</td>\n",
       "      <td>-0.115134</td>\n",
       "      <td>0.027125</td>\n",
       "      <td>-0.020101</td>\n",
       "      <td>0.027409</td>\n",
       "      <td>0.007359</td>\n",
       "      <td>-0.033159</td>\n",
       "      <td>-0.012779</td>\n",
       "      <td>0.061060</td>\n",
       "    </tr>\n",
       "    <tr>\n",
       "      <th>Employment Type</th>\n",
       "      <td>-0.115134</td>\n",
       "      <td>1.000000</td>\n",
       "      <td>-0.127133</td>\n",
       "      <td>0.349157</td>\n",
       "      <td>-0.003354</td>\n",
       "      <td>-0.011553</td>\n",
       "      <td>0.143790</td>\n",
       "      <td>0.181098</td>\n",
       "      <td>0.147847</td>\n",
       "    </tr>\n",
       "    <tr>\n",
       "      <th>GraduateOrNot</th>\n",
       "      <td>0.027125</td>\n",
       "      <td>-0.127133</td>\n",
       "      <td>1.000000</td>\n",
       "      <td>0.108066</td>\n",
       "      <td>0.021201</td>\n",
       "      <td>0.018811</td>\n",
       "      <td>-0.028120</td>\n",
       "      <td>0.062683</td>\n",
       "      <td>0.018934</td>\n",
       "    </tr>\n",
       "    <tr>\n",
       "      <th>AnnualIncome</th>\n",
       "      <td>-0.020101</td>\n",
       "      <td>0.349157</td>\n",
       "      <td>0.108066</td>\n",
       "      <td>1.000000</td>\n",
       "      <td>-0.015367</td>\n",
       "      <td>-0.001149</td>\n",
       "      <td>0.353087</td>\n",
       "      <td>0.486043</td>\n",
       "      <td>0.396763</td>\n",
       "    </tr>\n",
       "    <tr>\n",
       "      <th>FamilyMembers</th>\n",
       "      <td>0.027409</td>\n",
       "      <td>-0.003354</td>\n",
       "      <td>0.021201</td>\n",
       "      <td>-0.015367</td>\n",
       "      <td>1.000000</td>\n",
       "      <td>0.028209</td>\n",
       "      <td>-0.023775</td>\n",
       "      <td>-0.020755</td>\n",
       "      <td>0.079909</td>\n",
       "    </tr>\n",
       "    <tr>\n",
       "      <th>ChronicDiseases</th>\n",
       "      <td>0.007359</td>\n",
       "      <td>-0.011553</td>\n",
       "      <td>0.018811</td>\n",
       "      <td>-0.001149</td>\n",
       "      <td>0.028209</td>\n",
       "      <td>1.000000</td>\n",
       "      <td>-0.043720</td>\n",
       "      <td>0.021238</td>\n",
       "      <td>0.018190</td>\n",
       "    </tr>\n",
       "    <tr>\n",
       "      <th>FrequentFlyer</th>\n",
       "      <td>-0.033159</td>\n",
       "      <td>0.143790</td>\n",
       "      <td>-0.028120</td>\n",
       "      <td>0.353087</td>\n",
       "      <td>-0.023775</td>\n",
       "      <td>-0.043720</td>\n",
       "      <td>1.000000</td>\n",
       "      <td>0.277334</td>\n",
       "      <td>0.232103</td>\n",
       "    </tr>\n",
       "    <tr>\n",
       "      <th>EverTravelledAbroad</th>\n",
       "      <td>-0.012779</td>\n",
       "      <td>0.181098</td>\n",
       "      <td>0.062683</td>\n",
       "      <td>0.486043</td>\n",
       "      <td>-0.020755</td>\n",
       "      <td>0.021238</td>\n",
       "      <td>0.277334</td>\n",
       "      <td>1.000000</td>\n",
       "      <td>0.433183</td>\n",
       "    </tr>\n",
       "    <tr>\n",
       "      <th>TravelInsurance</th>\n",
       "      <td>0.061060</td>\n",
       "      <td>0.147847</td>\n",
       "      <td>0.018934</td>\n",
       "      <td>0.396763</td>\n",
       "      <td>0.079909</td>\n",
       "      <td>0.018190</td>\n",
       "      <td>0.232103</td>\n",
       "      <td>0.433183</td>\n",
       "      <td>1.000000</td>\n",
       "    </tr>\n",
       "  </tbody>\n",
       "</table>\n",
       "</div>"
      ],
      "text/plain": [
       "                          Age  Employment Type  GraduateOrNot  AnnualIncome  \\\n",
       "Age                  1.000000        -0.115134       0.027125     -0.020101   \n",
       "Employment Type     -0.115134         1.000000      -0.127133      0.349157   \n",
       "GraduateOrNot        0.027125        -0.127133       1.000000      0.108066   \n",
       "AnnualIncome        -0.020101         0.349157       0.108066      1.000000   \n",
       "FamilyMembers        0.027409        -0.003354       0.021201     -0.015367   \n",
       "ChronicDiseases      0.007359        -0.011553       0.018811     -0.001149   \n",
       "FrequentFlyer       -0.033159         0.143790      -0.028120      0.353087   \n",
       "EverTravelledAbroad -0.012779         0.181098       0.062683      0.486043   \n",
       "TravelInsurance      0.061060         0.147847       0.018934      0.396763   \n",
       "\n",
       "                     FamilyMembers  ChronicDiseases  FrequentFlyer  \\\n",
       "Age                       0.027409         0.007359      -0.033159   \n",
       "Employment Type          -0.003354        -0.011553       0.143790   \n",
       "GraduateOrNot             0.021201         0.018811      -0.028120   \n",
       "AnnualIncome             -0.015367        -0.001149       0.353087   \n",
       "FamilyMembers             1.000000         0.028209      -0.023775   \n",
       "ChronicDiseases           0.028209         1.000000      -0.043720   \n",
       "FrequentFlyer            -0.023775        -0.043720       1.000000   \n",
       "EverTravelledAbroad      -0.020755         0.021238       0.277334   \n",
       "TravelInsurance           0.079909         0.018190       0.232103   \n",
       "\n",
       "                     EverTravelledAbroad  TravelInsurance  \n",
       "Age                            -0.012779         0.061060  \n",
       "Employment Type                 0.181098         0.147847  \n",
       "GraduateOrNot                   0.062683         0.018934  \n",
       "AnnualIncome                    0.486043         0.396763  \n",
       "FamilyMembers                  -0.020755         0.079909  \n",
       "ChronicDiseases                 0.021238         0.018190  \n",
       "FrequentFlyer                   0.277334         0.232103  \n",
       "EverTravelledAbroad             1.000000         0.433183  \n",
       "TravelInsurance                 0.433183         1.000000  "
      ]
     },
     "metadata": {},
     "output_type": "display_data"
    },
    {
     "data": {
      "text/plain": [
       "<AxesSubplot:>"
      ]
     },
     "execution_count": 21,
     "metadata": {},
     "output_type": "execute_result"
    },
    {
     "data": {
      "image/png": "[encoded data removed]",
      "text/plain": [
       "<Figure size 432x288 with 2 Axes>"
      ]
     },
     "metadata": {
      "needs_background": "light"
     },
     "output_type": "display_data"
    }
   ],
   "source": [
    "# Heatmap\n",
    "import seaborn as sns\n",
    "\n",
    "def apply_feature_engineering(df):\n",
    "    # data normalization\n",
    "    normalized_data = df.copy()\n",
    "    normalized_data[\"Employment Type\"] = normalized_data[\"Employment Type\"].astype(\"category\").cat.codes\n",
    "    normalized_data[\"GraduateOrNot\"] = normalized_data[\"GraduateOrNot\"].astype(\"category\").cat.codes\n",
    "    normalized_data[\"FrequentFlyer\"] = normalized_data[\"FrequentFlyer\"].astype(\"category\").cat.codes\n",
    "    normalized_data[\"EverTravelledAbroad\"] = normalized_data[\"EverTravelledAbroad\"].astype(\"category\").cat.codes\n",
    "    \n",
    "    display(normalized_data.head())\n",
    "    display(normalized_data.corr())\n",
    "\n",
    "    return normalized_data\n",
    "\n",
    "df = apply_feature_engineering(df)\n",
    "sns.heatmap(df.corr()) # Show heatmap after normalized data"
   ]
  },
  {
   "cell_type": "code",
   "execution_count": 22,
   "metadata": {
    "id": "kWoZ3iLO8Koz"
   },
   "outputs": [],
   "source": [
    "def prepare_X_y(df):\n",
    "    X = df.iloc[:,:-1].values\n",
    "    y = df.iloc[:,-1].values\n",
    "    return X, y\n",
    "\n",
    "X, y = prepare_X_y(df)"
   ]
  },
  {
   "cell_type": "markdown",
   "metadata": {
    "id": "prlZ55S68Koz"
   },
   "source": [
    "# Apply machine learning model"
   ]
  },
  {
   "cell_type": "markdown",
   "metadata": {
    "id": "uwkqQnmZ8Ko0"
   },
   "source": [
    "## Train-test split"
   ]
  },
  {
   "cell_type": "code",
   "execution_count": 23,
   "metadata": {},
   "outputs": [],
   "source": [
    "from sklearn.model_selection import train_test_split\n",
    "\n",
    "X_train, X_test, y_train, y_test = train_test_split(X, y, test_size=0.2, random_state=1)"
   ]
  },
  {
   "cell_type": "markdown",
   "metadata": {},
   "source": [
    "## Label Imbalanced"
   ]
  },
  {
   "cell_type": "code",
   "execution_count": 24,
   "metadata": {
    "colab": {
     "base_uri": "https://localhost:8080/"
    },
    "executionInfo": {
     "elapsed": 311,
     "status": "ok",
     "timestamp": 1681551529308,
     "user": {
      "displayName": "Dac Nguyen",
      "userId": "01275678335241040197"
     },
     "user_tz": -420
    },
    "id": "iyzF_ZXqhcBB",
    "outputId": "7f10536c-f04e-42e1-90c3-68c921ab8fbf"
   },
   "outputs": [
    {
     "name": "stdout",
     "output_type": "stream",
     "text": [
      "              precision    recall  f1-score   support\n",
      "\n",
      "           0       0.76      0.93      0.83       253\n",
      "           1       0.80      0.48      0.60       145\n",
      "\n",
      "    accuracy                           0.77       398\n",
      "   macro avg       0.78      0.71      0.72       398\n",
      "weighted avg       0.77      0.77      0.75       398\n",
      "\n"
     ]
    }
   ],
   "source": [
    "from sklearn.preprocessing import MinMaxScaler\n",
    "from sklearn.naive_bayes import CategoricalNB\n",
    "\n",
    "# Scaler\n",
    "normalizer = MinMaxScaler()\n",
    "X_normal_train = normalizer.fit_transform(X_train)\n",
    "X_normal_test = normalizer.transform(X_test)\n",
    "\n",
    "# Model training\n",
    "naive_model = CategoricalNB()\n",
    "naive_model.fit(X_normal_train, y_train.ravel())\n",
    "\n",
    "from sklearn.metrics import precision_score, recall_score, f1_score, classification_report\n",
    "predicted_label = naive_model.predict(X_normal_test)\n",
    "print(classification_report(y_test, predicted_label))\n"
   ]
  },
  {
   "cell_type": "code",
   "execution_count": 25,
   "metadata": {},
   "outputs": [
    {
     "name": "stdout",
     "output_type": "stream",
     "text": [
      "              precision    recall  f1-score   support\n",
      "\n",
      "           0       0.77      0.91      0.83       253\n",
      "           1       0.76      0.54      0.63       145\n",
      "\n",
      "    accuracy                           0.77       398\n",
      "   macro avg       0.77      0.72      0.73       398\n",
      "weighted avg       0.77      0.77      0.76       398\n",
      "\n"
     ]
    }
   ],
   "source": [
    "from sklearn.preprocessing import MinMaxScaler\n",
    "from sklearn.naive_bayes import GaussianNB\n",
    "\n",
    "# Scaler\n",
    "normalizer = MinMaxScaler()\n",
    "X_normal_train = normalizer.fit_transform(X_train)\n",
    "X_normal_test = normalizer.transform(X_test)\n",
    "\n",
    "# Model training\n",
    "naive_model = GaussianNB()\n",
    "naive_model.fit(X_normal_train, y_train.ravel())\n",
    "\n",
    "from sklearn.metrics import precision_score, recall_score, f1_score, classification_report\n",
    "predicted_label = naive_model.predict(X_normal_test)\n",
    "print(classification_report(y_test, predicted_label))\n"
   ]
  },
  {
   "cell_type": "code",
   "execution_count": 26,
   "metadata": {},
   "outputs": [
    {
     "name": "stdout",
     "output_type": "stream",
     "text": [
      "              precision    recall  f1-score   support\n",
      "\n",
      "           0       0.76      0.92      0.84       253\n",
      "           1       0.79      0.50      0.62       145\n",
      "\n",
      "    accuracy                           0.77       398\n",
      "   macro avg       0.78      0.71      0.73       398\n",
      "weighted avg       0.78      0.77      0.76       398\n",
      "\n"
     ]
    }
   ],
   "source": [
    "from sklearn.preprocessing import MinMaxScaler\n",
    "from sklearn.naive_bayes import BernoulliNB\n",
    "\n",
    "# Scaler\n",
    "normalizer = MinMaxScaler()\n",
    "X_normal_train = normalizer.fit_transform(X_train)\n",
    "X_normal_test = normalizer.transform(X_test)\n",
    "\n",
    "# Model training\n",
    "naive_model = BernoulliNB()\n",
    "naive_model.fit(X_normal_train, y_train.ravel())\n",
    "\n",
    "from sklearn.metrics import precision_score, recall_score, f1_score, classification_report\n",
    "predicted_label = naive_model.predict(X_normal_test)\n",
    "print(classification_report(y_test, predicted_label))\n"
   ]
  },
  {
   "cell_type": "code",
   "execution_count": 27,
   "metadata": {},
   "outputs": [
    {
     "name": "stdout",
     "output_type": "stream",
     "text": [
      "              precision    recall  f1-score   support\n",
      "\n",
      "           0       0.77      0.91      0.83       253\n",
      "           1       0.77      0.52      0.62       145\n",
      "\n",
      "    accuracy                           0.77       398\n",
      "   macro avg       0.77      0.72      0.73       398\n",
      "weighted avg       0.77      0.77      0.76       398\n",
      "\n"
     ]
    }
   ],
   "source": [
    "from mixed_naive_bayes import MixedNB\n",
    "\n",
    "# Scaler\n",
    "normalizer = MinMaxScaler()\n",
    "X_normal_train = normalizer.fit_transform(X_train)\n",
    "X_normal_test = normalizer.transform(X_test)\n",
    "# Model training\n",
    "\n",
    "clf = MixedNB(categorical_features=[1,2,6,7]) \n",
    "clf.fit(X_train, y_train)\n",
    "\n",
    "from sklearn.metrics import precision_score, recall_score, f1_score, classification_report\n",
    "predicted_label = clf.predict(X_test)\n",
    "print(classification_report(y_test, predicted_label))"
   ]
  },
  {
   "cell_type": "markdown",
   "metadata": {},
   "source": [
    "## Fix Label Imbalanced with SMOTE"
   ]
  },
  {
   "cell_type": "code",
   "execution_count": 28,
   "metadata": {},
   "outputs": [
    {
     "name": "stdout",
     "output_type": "stream",
     "text": [
      "Original dataset shape Counter({0: 1391, 1: 596})\n",
      "Resampled dataset shape Counter({0: 1277, 1: 1277})\n"
     ]
    }
   ],
   "source": [
    "from collections import Counter\n",
    "from sklearn.datasets import make_classification\n",
    "from imblearn.over_sampling import SMOTE\n",
    "\n",
    "X_train, y_train = make_classification(n_classes=2, weights=[0.7, 0.3], flip_y=0, n_samples=1987, random_state=10)\n",
    "\n",
    "print('Original dataset shape %s' % Counter(y_train))\n",
    "sm = SMOTE(random_state=10)\n",
    "X_res, y_res = sm.fit_resample(X, y)\n",
    "print('Resampled dataset shape %s' % Counter(y_res))"
   ]
  },
  {
   "cell_type": "code",
   "execution_count": 29,
   "metadata": {},
   "outputs": [],
   "source": [
    "# replace X_train, y_train to X_res, y_res\n",
    "X_train, y_train = X_res, y_res"
   ]
  },
  {
   "cell_type": "code",
   "execution_count": 30,
   "metadata": {
    "colab": {
     "base_uri": "https://localhost:8080/"
    },
    "executionInfo": {
     "elapsed": 311,
     "status": "ok",
     "timestamp": 1681551529308,
     "user": {
      "displayName": "Dac Nguyen",
      "userId": "01275678335241040197"
     },
     "user_tz": -420
    },
    "id": "iyzF_ZXqhcBB",
    "outputId": "7f10536c-f04e-42e1-90c3-68c921ab8fbf"
   },
   "outputs": [
    {
     "name": "stdout",
     "output_type": "stream",
     "text": [
      "              precision    recall  f1-score   support\n",
      "\n",
      "           0       0.77      0.85      0.81       253\n",
      "           1       0.69      0.56      0.62       145\n",
      "\n",
      "    accuracy                           0.75       398\n",
      "   macro avg       0.73      0.71      0.71       398\n",
      "weighted avg       0.74      0.75      0.74       398\n",
      "\n"
     ]
    }
   ],
   "source": [
    "from sklearn.preprocessing import MinMaxScaler\n",
    "from sklearn.naive_bayes import CategoricalNB\n",
    "\n",
    "# Scaler\n",
    "normalizer = MinMaxScaler()\n",
    "X_normal_train = normalizer.fit_transform(X_train)\n",
    "X_normal_test = normalizer.transform(X_test)\n",
    "\n",
    "# Model training\n",
    "naive_model = CategoricalNB()\n",
    "naive_model.fit(X_normal_train, y_train.ravel())\n",
    "\n",
    "from sklearn.metrics import precision_score, recall_score, f1_score, classification_report\n",
    "predicted_label = naive_model.predict(X_normal_test)\n",
    "print(classification_report(y_test, predicted_label))\n"
   ]
  },
  {
   "cell_type": "code",
   "execution_count": 31,
   "metadata": {
    "colab": {
     "base_uri": "https://localhost:8080/"
    },
    "executionInfo": {
     "elapsed": 311,
     "status": "ok",
     "timestamp": 1681551529308,
     "user": {
      "displayName": "Dac Nguyen",
      "userId": "01275678335241040197"
     },
     "user_tz": -420
    },
    "id": "iyzF_ZXqhcBB",
    "outputId": "7f10536c-f04e-42e1-90c3-68c921ab8fbf"
   },
   "outputs": [
    {
     "name": "stdout",
     "output_type": "stream",
     "text": [
      "              precision    recall  f1-score   support\n",
      "\n",
      "           0       0.78      0.87      0.82       253\n",
      "           1       0.71      0.57      0.63       145\n",
      "\n",
      "    accuracy                           0.76       398\n",
      "   macro avg       0.74      0.72      0.73       398\n",
      "weighted avg       0.75      0.76      0.75       398\n",
      "\n"
     ]
    }
   ],
   "source": [
    "from sklearn.preprocessing import MinMaxScaler\n",
    "from sklearn.naive_bayes import GaussianNB\n",
    "\n",
    "# Scaler\n",
    "normalizer = MinMaxScaler()\n",
    "X_normal_train = normalizer.fit_transform(X_train)\n",
    "X_normal_test = normalizer.transform(X_test)\n",
    "\n",
    "# Model training\n",
    "naive_model = GaussianNB()\n",
    "naive_model.fit(X_normal_train, y_train.ravel())\n",
    "\n",
    "from sklearn.metrics import precision_score, recall_score, f1_score, classification_report\n",
    "predicted_label = naive_model.predict(X_normal_test)\n",
    "print(classification_report(y_test, predicted_label))\n"
   ]
  },
  {
   "cell_type": "code",
   "execution_count": 32,
   "metadata": {
    "colab": {
     "base_uri": "https://localhost:8080/"
    },
    "executionInfo": {
     "elapsed": 311,
     "status": "ok",
     "timestamp": 1681551529308,
     "user": {
      "displayName": "Dac Nguyen",
      "userId": "01275678335241040197"
     },
     "user_tz": -420
    },
    "id": "iyzF_ZXqhcBB",
    "outputId": "7f10536c-f04e-42e1-90c3-68c921ab8fbf"
   },
   "outputs": [
    {
     "name": "stdout",
     "output_type": "stream",
     "text": [
      "              precision    recall  f1-score   support\n",
      "\n",
      "           0       0.76      0.84      0.80       253\n",
      "           1       0.66      0.54      0.60       145\n",
      "\n",
      "    accuracy                           0.73       398\n",
      "   macro avg       0.71      0.69      0.70       398\n",
      "weighted avg       0.73      0.73      0.73       398\n",
      "\n"
     ]
    }
   ],
   "source": [
    "from sklearn.preprocessing import MinMaxScaler\n",
    "from sklearn.naive_bayes import BernoulliNB\n",
    "\n",
    "# Scaler\n",
    "normalizer = MinMaxScaler()\n",
    "X_normal_train = normalizer.fit_transform(X_train)\n",
    "X_normal_test = normalizer.transform(X_test)\n",
    "\n",
    "# Model training\n",
    "naive_model = BernoulliNB()\n",
    "naive_model.fit(X_normal_train, y_train.ravel())\n",
    "\n",
    "from sklearn.metrics import precision_score, recall_score, f1_score, classification_report\n",
    "predicted_label = naive_model.predict(X_normal_test)\n",
    "print(classification_report(y_test, predicted_label))\n"
   ]
  },
  {
   "cell_type": "code",
   "execution_count": 33,
   "metadata": {},
   "outputs": [
    {
     "name": "stdout",
     "output_type": "stream",
     "text": [
      "              precision    recall  f1-score   support\n",
      "\n",
      "           0       0.79      0.80      0.79       253\n",
      "           1       0.64      0.62      0.63       145\n",
      "\n",
      "    accuracy                           0.73       398\n",
      "   macro avg       0.71      0.71      0.71       398\n",
      "weighted avg       0.73      0.73      0.73       398\n",
      "\n"
     ]
    }
   ],
   "source": [
    "from mixed_naive_bayes import MixedNB\n",
    "\n",
    "# Scaler\n",
    "normalizer = MinMaxScaler()\n",
    "X_normal_train = normalizer.fit_transform(X_train)\n",
    "X_normal_test = normalizer.transform(X_test)\n",
    "# Model training\n",
    "\n",
    "clf = MixedNB(categorical_features=[1,2,6,7]) \n",
    "clf.fit(X_normal_train, y_train)\n",
    "\n",
    "from sklearn.metrics import precision_score, recall_score, f1_score, classification_report\n",
    "predicted_label = clf.predict(X_normal_test)\n",
    "print(classification_report(y_test, predicted_label))"
   ]
  },
  {
   "cell_type": "markdown",
   "metadata": {},
   "source": [
    "## Perform model on training set and test set using gridsearch CV"
   ]
  },
  {
   "cell_type": "code",
   "execution_count": 34,
   "metadata": {
    "colab": {
     "base_uri": "https://localhost:8080/"
    },
    "executionInfo": {
     "elapsed": 44980,
     "status": "ok",
     "timestamp": 1681551260619,
     "user": {
      "displayName": "Dac Nguyen",
      "userId": "01275678335241040197"
     },
     "user_tz": -420
    },
    "id": "Q7UAeoBwiacC",
    "outputId": "cd451bbc-f509-4c6f-db4c-850fbc4fb0ae"
   },
   "outputs": [
    {
     "name": "stdout",
     "output_type": "stream",
     "text": [
      "Best parameter (CV score=0.493):\n",
      "{'nb__alpha': 0.1}\n",
      "              precision    recall  f1-score   support\n",
      "\n",
      "           0       0.77      0.85      0.81       253\n",
      "           1       0.69      0.56      0.62       145\n",
      "\n",
      "    accuracy                           0.75       398\n",
      "   macro avg       0.73      0.71      0.71       398\n",
      "weighted avg       0.74      0.75      0.74       398\n",
      "\n"
     ]
    }
   ],
   "source": [
    "# -- Build a full pipeline\n",
    "from sklearn.naive_bayes import CategoricalNB\n",
    "from sklearn.pipeline import Pipeline\n",
    "from sklearn.model_selection import GridSearchCV\n",
    "\n",
    "# Scaler\n",
    "normalizer = MinMaxScaler()\n",
    "X_normal_train = normalizer.fit_transform(X_train)\n",
    "X_normal_test = normalizer.transform(X_test)\n",
    "nb = CategoricalNB()\n",
    "pipe = Pipeline(steps=[(\"nb\", nb)]) \n",
    "\n",
    "# Parameters of pipelines can be set using '__' separated parameter names:\n",
    "alpha = np.logspace(-1, -9, num=100)\n",
    "param_grid = {\n",
    "    'nb__alpha': alpha\n",
    "    }\n",
    "\n",
    "search = GridSearchCV(pipe, param_grid, scoring=\"recall\", n_jobs=4)\n",
    "search.fit(X_normal_train, y_train)\n",
    "print(\"Best parameter (CV score=%0.3f):\" % search.best_score_)\n",
    "print(search.best_params_)\n",
    "\n",
    "from sklearn.metrics import precision_score, recall_score, f1_score, classification_report\n",
    "predicted_label = search.predict(X_normal_test)\n",
    "print(classification_report(y_test, predicted_label))"
   ]
  },
  {
   "cell_type": "code",
   "execution_count": 35,
   "metadata": {
    "colab": {
     "base_uri": "https://localhost:8080/"
    },
    "executionInfo": {
     "elapsed": 44980,
     "status": "ok",
     "timestamp": 1681551260619,
     "user": {
      "displayName": "Dac Nguyen",
      "userId": "01275678335241040197"
     },
     "user_tz": -420
    },
    "id": "Q7UAeoBwiacC",
    "outputId": "cd451bbc-f509-4c6f-db4c-850fbc4fb0ae"
   },
   "outputs": [
    {
     "name": "stdout",
     "output_type": "stream",
     "text": [
      "Best parameter (CV score=0.507):\n",
      "{'nb__alpha': 0.1}\n",
      "              precision    recall  f1-score   support\n",
      "\n",
      "           0       0.76      0.84      0.80       253\n",
      "           1       0.66      0.54      0.60       145\n",
      "\n",
      "    accuracy                           0.73       398\n",
      "   macro avg       0.71      0.69      0.70       398\n",
      "weighted avg       0.73      0.73      0.73       398\n",
      "\n"
     ]
    }
   ],
   "source": [
    "# -- Build a full pipeline\n",
    "from sklearn.naive_bayes import BernoulliNB\n",
    "from sklearn.pipeline import Pipeline\n",
    "from sklearn.model_selection import GridSearchCV\n",
    "\n",
    "# Scaler\n",
    "normalizer = MinMaxScaler()\n",
    "X_normal_train = normalizer.fit_transform(X_train)\n",
    "X_normal_test = normalizer.transform(X_test)\n",
    "nb = BernoulliNB()\n",
    "pipe = Pipeline(steps=[(\"nb\", nb)]) \n",
    "\n",
    "# Parameters of pipelines can be set using '__' separated parameter names:\n",
    "alpha = np.logspace(-1, -9, num=100)\n",
    "param_grid = {\n",
    "    'nb__alpha': alpha\n",
    "    }\n",
    "\n",
    "search = GridSearchCV(pipe, param_grid, scoring=\"recall\", n_jobs=4)\n",
    "search.fit(X_normal_train, y_train)\n",
    "print(\"Best parameter (CV score=%0.3f):\" % search.best_score_)\n",
    "print(search.best_params_)\n",
    "\n",
    "from sklearn.metrics import precision_score, recall_score, f1_score, classification_report\n",
    "predicted_label = search.predict(X_normal_test)\n",
    "print(classification_report(y_test, predicted_label))"
   ]
  },
  {
   "cell_type": "code",
   "execution_count": 36,
   "metadata": {
    "colab": {
     "base_uri": "https://localhost:8080/"
    },
    "executionInfo": {
     "elapsed": 44980,
     "status": "ok",
     "timestamp": 1681551260619,
     "user": {
      "displayName": "Dac Nguyen",
      "userId": "01275678335241040197"
     },
     "user_tz": -420
    },
    "id": "Q7UAeoBwiacC",
    "outputId": "cd451bbc-f509-4c6f-db4c-850fbc4fb0ae"
   },
   "outputs": [
    {
     "name": "stdout",
     "output_type": "stream",
     "text": [
      "Best parameter (CV score=0.511):\n",
      "{'gau_nb__var_smoothing': 0.02257019719633919}\n",
      "              precision    recall  f1-score   support\n",
      "\n",
      "           0       0.78      0.87      0.82       253\n",
      "           1       0.71      0.57      0.63       145\n",
      "\n",
      "    accuracy                           0.76       398\n",
      "   macro avg       0.74      0.72      0.73       398\n",
      "weighted avg       0.75      0.76      0.75       398\n",
      "\n"
     ]
    }
   ],
   "source": [
    "# -- Build a full pipeline\n",
    "from sklearn.naive_bayes import GaussianNB\n",
    "from sklearn.pipeline import Pipeline\n",
    "from sklearn.model_selection import GridSearchCV\n",
    "\n",
    "# Scaler\n",
    "normalizer = MinMaxScaler()\n",
    "X_normal_train = normalizer.fit_transform(X_train)\n",
    "X_normal_test = normalizer.transform(X_test)\n",
    "gau_nb = GaussianNB()\n",
    "pipe = Pipeline(steps=[(\"gau_nb\", gau_nb)]) \n",
    "\n",
    "# Parameters of pipelines can be set using '__' separated parameter names:\n",
    "var_smoothing_values = np.logspace(-1, -9, num=100)\n",
    "param_grid = {\n",
    "    'gau_nb__var_smoothing': var_smoothing_values\n",
    "    }\n",
    "\n",
    "search = GridSearchCV(pipe, param_grid, scoring=\"recall\", n_jobs=4)\n",
    "search.fit(X_normal_train, y_train)\n",
    "print(\"Best parameter (CV score=%0.3f):\" % search.best_score_)\n",
    "print(search.best_params_)\n",
    "\n",
    "from sklearn.metrics import precision_score, recall_score, f1_score, classification_report\n",
    "predicted_label = search.predict(X_normal_test)\n",
    "print(classification_report(y_test, predicted_label))"
   ]
  },
  {
   "cell_type": "markdown",
   "metadata": {
    "id": "Xy5y6NEO8Ko0"
   },
   "source": [
    "## Build SK-learn model"
   ]
  },
  {
   "cell_type": "code",
   "execution_count": 37,
   "metadata": {
    "id": "lge0OhiI8Ko1"
   },
   "outputs": [
    {
     "name": "stdout",
     "output_type": "stream",
     "text": [
      "Accuracy:  0.7336683417085427\n",
      "Precision:  0.6382978723404256\n",
      "Recall:  0.6206896551724138\n",
      "F1:  0.6293706293706294\n",
      "Confusion matrix: \n",
      " [[202  51]\n",
      " [ 55  90]]\n",
      "classification_report: \n",
      "               precision    recall  f1-score   support\n",
      "\n",
      "           0       0.79      0.80      0.79       253\n",
      "           1       0.64      0.62      0.63       145\n",
      "\n",
      "    accuracy                           0.73       398\n",
      "   macro avg       0.71      0.71      0.71       398\n",
      "weighted avg       0.73      0.73      0.73       398\n",
      "\n"
     ]
    },
    {
     "data": {
      "text/plain": [
       "0.6206896551724138"
      ]
     },
     "execution_count": 37,
     "metadata": {},
     "output_type": "execute_result"
    }
   ],
   "source": [
    "from sklearn.metrics import classification_report, accuracy_score, precision_score, recall_score, f1_score, confusion_matrix\n",
    "from mixed_naive_bayes import MixedNB\n",
    "\n",
    "def build_model():\n",
    "    # Scaler\n",
    "    normalizer = MinMaxScaler()\n",
    "    X_normal_train = normalizer.fit_transform(X_train)\n",
    "    X_normal_test = normalizer.transform(X_test)\n",
    "    # Model training\n",
    "\n",
    "    clf = MixedNB(categorical_features=[1,2,6,7]) \n",
    "    clf.fit(X_normal_train, y_train)\n",
    "\n",
    "    return clf\n",
    "\n",
    "def calculate_performance(y_true, y_pred):\n",
    "    print(\"Accuracy: \", accuracy_score(y_test, y_pred))\n",
    "    print(\"Precision: \", precision_score(y_test , y_pred))\n",
    "    print(\"Recall: \", recall_score(y_test , y_pred ))\n",
    "    print(\"F1: \", f1_score(y_test , y_pred))\n",
    "    print(\"Confusion matrix: \\n\", confusion_matrix(y_test , y_pred ))\n",
    "    print(\"classification_report: \\n\", classification_report(y_test, y_pred))\n",
    "\n",
    "    # Todo: Only choose one of them as your score for the question 7\n",
    "    main_score =recall_score(y_test , y_pred)\n",
    "    return main_score\n",
    "\n",
    "model = build_model()\n",
    "# Compare on training dataset\n",
    "predicted_label = clf.predict(X_normal_test)\n",
    "calculate_performance(y_test, predicted_label)\n"
   ]
  },
  {
   "cell_type": "code",
   "execution_count": 48,
   "metadata": {
    "id": "T0UDQCc48Ko1"
   },
   "outputs": [],
   "source": [
    "def get_conclusion():\n",
    "    # Todo: Please return your answer, conclusion and opinion right here\n",
    "    return \"7.Em chọn MixedNB vì nó cho recall tốt nhất (scaler bằng MinMaxScaler, không dùng PCA vì model đang ít data và feature, mất cân bằng label (hiện tượng underfitting), giải quyết    việc mất cân bằng ở label bằng oversampling method là SMOTE) và bên cạnh đó các độ đo khác cũng cho kết quả gần nhau. Chọn recall_score. Vì khi ta so sánh giữa việc có mua bảo hiểm bị dự đoán là không mua và không mua được dự đoán là có mua thì ta thấy nên chọn việc không mua được dự đoán là có mua sẽ đem lại nhiều lợi ích cho công ty hơn vì không bỏ sót bất cứ khách hàng tiềm năng nào. \" \n",
    "           "
   ]
  },
  {
   "cell_type": "code",
   "execution_count": 49,
   "metadata": {},
   "outputs": [
    {
     "data": {
      "text/plain": [
       "'7.Em chọn MixedNB vì nó cho recall tốt nhất (scaler bằng MinMaxScaler, không dùng PCA vì model đang ít data và feature, mất cân bằng label (hiện tượng underfitting), giải quyết    việc mất cân bằng ở label bằng oversampling method là SMOTE) và bên cạnh đó các độ đo khác cũng cho kết quả gần nhau. Chọn recall_score. Vì khi ta so sánh giữa việc có mua bảo hiểm bị dự đoán là không mua và không mua được dự đoán là có mua thì ta thấy nên chọn việc không mua được dự đoán là có mua sẽ đem lại nhiều lợi ích cho công ty hơn vì không bỏ sót bất cứ khách hàng tiềm năng nào. '"
      ]
     },
     "execution_count": 49,
     "metadata": {},
     "output_type": "execute_result"
    }
   ],
   "source": [
    "get_conclusion()"
   ]
  }
 ],
 "metadata": {
  "colab": {
   "provenance": []
  },
  "kernelspec": {
   "display_name": "Python 3 (ipykernel)",
   "language": "python",
   "name": "python3"
  },
  "language_info": {
   "codemirror_mode": {
    "name": "ipython",
    "version": 3
   },
   "file_extension": ".py",
   "mimetype": "text/x-python",
   "name": "python",
   "nbconvert_exporter": "python",
   "pygments_lexer": "ipython3",
   "version": "3.9.12"
  }
 },
 "nbformat": 4,
 "nbformat_minor": 4
}
