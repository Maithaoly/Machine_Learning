{
 "cells": [
  {
   "cell_type": "markdown",
   "metadata": {
    "id": "ae78e63c"
   },
   "source": [
    "### MAI THỊ THẢO LY - 20280064 - 20KHDL"
   ]
  },
  {
   "cell_type": "markdown",
   "metadata": {},
   "source": [
    "# Exercise\n",
    "This is a dataset related to how much money a person can get from a mortgage on his or her home. This dataset includes the following features:\n",
    "* Gender: Gender of the borrower (including two values 'F' and 'M')\n",
    "* Age: Age of the customer applying for a loan (including positive integer values)\n",
    "* Income (USD): Customer's income in USD (value is a positive number)\n",
    "* Income Stability: The level of customer's income stability (including three values of Low and High)\n",
    "* Property Age: Life expectancy of the house in days (including positive integer values)\n",
    "* Property Location: Location of the house (including 'Rural', 'Urban', and 'Semi-Urban')\n",
    "* Property Price: The value of the house in USD (including positive real values)\n",
    "* Loan Sanction Amount (USD): Amount that customers can borrow in USD (target value)\n",
    "\n",
    "Based on practice sample #1, proceed:\n",
    "1. Read data\n",
    "2. Visualize some information of data\n",
    "3. Normalize Data to train linear regression model\n",
    "4. Train linear regression model and show the model's intercepts, coeficients\n",
    "5. Learn on sklearn how to use Ridge, Lasso, and ElasticNet compare the error of all 3 algorithms with Linear Regression (https://scikit-learn.org/stable/index.html)\n",
    "6. Let's try Polynomial of order 2 to compare the previous results. What will the result be if we choose the n order too high?\n",
    "\n",
    "\n",
    "**Submission Link**: https://forms.gle/WKCJUp7noHAKALNP9 (Submit your .ipynb file)"
   ]
  },
  {
   "cell_type": "code",
   "execution_count": 71,
   "metadata": {
    "id": "mYV5QYEaZD5N"
   },
   "outputs": [],
   "source": [
    "# mount data from google drive to colab\n",
    "#from google.colab import drive\n",
    "#drive.mount('/content/drive')\n",
    "\n",
    "#import library\n",
    "import pandas as pd # pandas \n",
    "import numpy as np # numpy\n",
    "import time\n",
    "import seaborn as sns"
   ]
  },
  {
   "cell_type": "markdown",
   "metadata": {
    "id": "DWey3cHTb43g"
   },
   "source": [
    "# Prepare and Analyze Data\n",
    "\n",
    "1. Load Dataset\n",
    "2. Analyze Dataset\n",
    "3. Preprocess data (type, null, missing, ...)\n",
    "4. Feature Engineering"
   ]
  },
  {
   "cell_type": "markdown",
   "metadata": {
    "id": "5QJmB36JjdyC"
   },
   "source": [
    "## Load Dataset"
   ]
  },
  {
   "cell_type": "code",
   "execution_count": 72,
   "metadata": {
    "id": "b6967e88"
   },
   "outputs": [],
   "source": [
    "# read data using Pandas DataFrame\n",
    "def read_dataset(path):\n",
    "    # Todo: read_csv from a path and return a DataFrame\n",
    "    df = pd.read_csv(path)\n",
    "    display(df.head())\n",
    "    display(df.describe())\n",
    "    return df"
   ]
  },
  {
   "cell_type": "code",
   "execution_count": 73,
   "metadata": {
    "id": "bRSvpuUCfpDr"
   },
   "outputs": [
    {
     "data": {
      "text/html": [
       "<div>\n",
       "<style scoped>\n",
       "    .dataframe tbody tr th:only-of-type {\n",
       "        vertical-align: middle;\n",
       "    }\n",
       "\n",
       "    .dataframe tbody tr th {\n",
       "        vertical-align: top;\n",
       "    }\n",
       "\n",
       "    .dataframe thead th {\n",
       "        text-align: right;\n",
       "    }\n",
       "</style>\n",
       "<table border=\"1\" class=\"dataframe\">\n",
       "  <thead>\n",
       "    <tr style=\"text-align: right;\">\n",
       "      <th></th>\n",
       "      <th>Gender</th>\n",
       "      <th>Age</th>\n",
       "      <th>Income (USD)</th>\n",
       "      <th>Income Stability</th>\n",
       "      <th>Property Age</th>\n",
       "      <th>Property Location</th>\n",
       "      <th>Property Price</th>\n",
       "      <th>Loan Sanction Amount (USD)</th>\n",
       "    </tr>\n",
       "  </thead>\n",
       "  <tbody>\n",
       "    <tr>\n",
       "      <th>0</th>\n",
       "      <td>F</td>\n",
       "      <td>19</td>\n",
       "      <td>1641.25</td>\n",
       "      <td>Low</td>\n",
       "      <td>1651.25</td>\n",
       "      <td>Rural</td>\n",
       "      <td>59641.82</td>\n",
       "      <td>21026.420753</td>\n",
       "    </tr>\n",
       "    <tr>\n",
       "      <th>1</th>\n",
       "      <td>M</td>\n",
       "      <td>29</td>\n",
       "      <td>1989.71</td>\n",
       "      <td>Low</td>\n",
       "      <td>1990.71</td>\n",
       "      <td>Urban</td>\n",
       "      <td>179858.51</td>\n",
       "      <td>60595.183366</td>\n",
       "    </tr>\n",
       "    <tr>\n",
       "      <th>2</th>\n",
       "      <td>F</td>\n",
       "      <td>37</td>\n",
       "      <td>1849.91</td>\n",
       "      <td>Low</td>\n",
       "      <td>1856.91</td>\n",
       "      <td>Rural</td>\n",
       "      <td>117297.62</td>\n",
       "      <td>39181.648002</td>\n",
       "    </tr>\n",
       "    <tr>\n",
       "      <th>3</th>\n",
       "      <td>M</td>\n",
       "      <td>65</td>\n",
       "      <td>2735.18</td>\n",
       "      <td>High</td>\n",
       "      <td>2747.18</td>\n",
       "      <td>Rural</td>\n",
       "      <td>354417.72</td>\n",
       "      <td>128497.710865</td>\n",
       "    </tr>\n",
       "    <tr>\n",
       "      <th>4</th>\n",
       "      <td>F</td>\n",
       "      <td>62</td>\n",
       "      <td>4741.78</td>\n",
       "      <td>High</td>\n",
       "      <td>4740.78</td>\n",
       "      <td>Urban</td>\n",
       "      <td>82049.80</td>\n",
       "      <td>39386.919336</td>\n",
       "    </tr>\n",
       "  </tbody>\n",
       "</table>\n",
       "</div>"
      ],
      "text/plain": [
       "  Gender  Age  Income (USD) Income Stability  Property Age Property Location  \\\n",
       "0      F   19       1641.25              Low       1651.25             Rural   \n",
       "1      M   29       1989.71              Low       1990.71             Urban   \n",
       "2      F   37       1849.91              Low       1856.91             Rural   \n",
       "3      M   65       2735.18             High       2747.18             Rural   \n",
       "4      F   62       4741.78             High       4740.78             Urban   \n",
       "\n",
       "   Property Price  Loan Sanction Amount (USD)  \n",
       "0        59641.82                21026.420753  \n",
       "1       179858.51                60595.183366  \n",
       "2       117297.62                39181.648002  \n",
       "3       354417.72               128497.710865  \n",
       "4        82049.80                39386.919336  "
      ]
     },
     "metadata": {},
     "output_type": "display_data"
    },
    {
     "data": {
      "text/html": [
       "<div>\n",
       "<style scoped>\n",
       "    .dataframe tbody tr th:only-of-type {\n",
       "        vertical-align: middle;\n",
       "    }\n",
       "\n",
       "    .dataframe tbody tr th {\n",
       "        vertical-align: top;\n",
       "    }\n",
       "\n",
       "    .dataframe thead th {\n",
       "        text-align: right;\n",
       "    }\n",
       "</style>\n",
       "<table border=\"1\" class=\"dataframe\">\n",
       "  <thead>\n",
       "    <tr style=\"text-align: right;\">\n",
       "      <th></th>\n",
       "      <th>Age</th>\n",
       "      <th>Income (USD)</th>\n",
       "      <th>Property Age</th>\n",
       "      <th>Property Price</th>\n",
       "      <th>Loan Sanction Amount (USD)</th>\n",
       "    </tr>\n",
       "  </thead>\n",
       "  <tbody>\n",
       "    <tr>\n",
       "      <th>count</th>\n",
       "      <td>47297.000000</td>\n",
       "      <td>47265.000000</td>\n",
       "      <td>47263.000000</td>\n",
       "      <td>4.729700e+04</td>\n",
       "      <td>47297.000000</td>\n",
       "    </tr>\n",
       "    <tr>\n",
       "      <th>mean</th>\n",
       "      <td>40.000063</td>\n",
       "      <td>2586.684384</td>\n",
       "      <td>2586.611058</td>\n",
       "      <td>1.350880e+05</td>\n",
       "      <td>46487.229765</td>\n",
       "    </tr>\n",
       "    <tr>\n",
       "      <th>std</th>\n",
       "      <td>16.086128</td>\n",
       "      <td>1558.768809</td>\n",
       "      <td>1558.842286</td>\n",
       "      <td>9.457875e+04</td>\n",
       "      <td>32549.905634</td>\n",
       "    </tr>\n",
       "    <tr>\n",
       "      <th>min</th>\n",
       "      <td>18.000000</td>\n",
       "      <td>372.700000</td>\n",
       "      <td>370.700000</td>\n",
       "      <td>7.859620e+03</td>\n",
       "      <td>254.586578</td>\n",
       "    </tr>\n",
       "    <tr>\n",
       "      <th>25%</th>\n",
       "      <td>24.000000</td>\n",
       "      <td>1653.740000</td>\n",
       "      <td>1652.820000</td>\n",
       "      <td>6.250408e+04</td>\n",
       "      <td>21782.822159</td>\n",
       "    </tr>\n",
       "    <tr>\n",
       "      <th>50%</th>\n",
       "      <td>40.000000</td>\n",
       "      <td>2245.480000</td>\n",
       "      <td>2244.810000</td>\n",
       "      <td>1.130936e+05</td>\n",
       "      <td>38822.132402</td>\n",
       "    </tr>\n",
       "    <tr>\n",
       "      <th>75%</th>\n",
       "      <td>55.000000</td>\n",
       "      <td>3128.560000</td>\n",
       "      <td>3128.380000</td>\n",
       "      <td>1.819546e+05</td>\n",
       "      <td>62612.236905</td>\n",
       "    </tr>\n",
       "    <tr>\n",
       "      <th>max</th>\n",
       "      <td>65.000000</td>\n",
       "      <td>54662.750000</td>\n",
       "      <td>54647.750000</td>\n",
       "      <td>1.077967e+06</td>\n",
       "      <td>366131.165218</td>\n",
       "    </tr>\n",
       "  </tbody>\n",
       "</table>\n",
       "</div>"
      ],
      "text/plain": [
       "                Age  Income (USD)  Property Age  Property Price  \\\n",
       "count  47297.000000  47265.000000  47263.000000    4.729700e+04   \n",
       "mean      40.000063   2586.684384   2586.611058    1.350880e+05   \n",
       "std       16.086128   1558.768809   1558.842286    9.457875e+04   \n",
       "min       18.000000    372.700000    370.700000    7.859620e+03   \n",
       "25%       24.000000   1653.740000   1652.820000    6.250408e+04   \n",
       "50%       40.000000   2245.480000   2244.810000    1.130936e+05   \n",
       "75%       55.000000   3128.560000   3128.380000    1.819546e+05   \n",
       "max       65.000000  54662.750000  54647.750000    1.077967e+06   \n",
       "\n",
       "       Loan Sanction Amount (USD)  \n",
       "count                47297.000000  \n",
       "mean                 46487.229765  \n",
       "std                  32549.905634  \n",
       "min                    254.586578  \n",
       "25%                  21782.822159  \n",
       "50%                  38822.132402  \n",
       "75%                  62612.236905  \n",
       "max                 366131.165218  "
      ]
     },
     "metadata": {},
     "output_type": "display_data"
    }
   ],
   "source": [
    "path = \"final_house_loan.csv\" # Path to your file\n",
    "\n",
    "df = read_dataset(path)\n",
    "#ToDo: Show histogram of dataframe"
   ]
  },
  {
   "cell_type": "markdown",
   "metadata": {
    "id": "kLqfm42rjgO2"
   },
   "source": [
    "## Data Analysis"
   ]
  },
  {
   "cell_type": "code",
   "execution_count": 74,
   "metadata": {},
   "outputs": [
    {
     "data": {
      "text/plain": [
       "array([[<AxesSubplot:title={'center':'Age'}>,\n",
       "        <AxesSubplot:title={'center':'Income (USD)'}>],\n",
       "       [<AxesSubplot:title={'center':'Property Age'}>,\n",
       "        <AxesSubplot:title={'center':'Property Price'}>]], dtype=object)"
      ]
     },
     "execution_count": 74,
     "metadata": {},
     "output_type": "execute_result"
    },
    {
     "data": {
      "image/png": "[encoded data removed]",
      "text/plain": [
       "<Figure size 720x720 with 4 Axes>"
      ]
     },
     "metadata": {
      "needs_background": "light"
     },
     "output_type": "display_data"
    }
   ],
   "source": [
    "df.hist(column=['Age','Income (USD)','Property Age','Property Price'],figsize=(10,10))"
   ]
  },
  {
   "cell_type": "code",
   "execution_count": 75,
   "metadata": {},
   "outputs": [
    {
     "data": {
      "text/plain": [
       "<AxesSubplot:xlabel='Age', ylabel='Count'>"
      ]
     },
     "execution_count": 75,
     "metadata": {},
     "output_type": "execute_result"
    },
    {
     "data": {
      "image/png": "[encoded data removed]",
      "text/plain": [
       "<Figure size 432x288 with 1 Axes>"
      ]
     },
     "metadata": {
      "needs_background": "light"
     },
     "output_type": "display_data"
    }
   ],
   "source": [
    "sns.histplot(x=\"Age\", data=df, bins=60)"
   ]
  },
  {
   "cell_type": "code",
   "execution_count": 76,
   "metadata": {
    "id": "OZFahON289oe"
   },
   "outputs": [
    {
     "data": {
      "text/plain": [
       "<AxesSubplot:xlabel='count', ylabel='Gender'>"
      ]
     },
     "execution_count": 76,
     "metadata": {},
     "output_type": "execute_result"
    },
    {
     "data": {
      "image/png": "[encoded data removed]",
      "text/plain": [
       "<Figure size 432x288 with 1 Axes>"
      ]
     },
     "metadata": {
      "needs_background": "light"
     },
     "output_type": "display_data"
    }
   ],
   "source": [
    "sns.countplot(y='Gender',data=df)"
   ]
  },
  {
   "cell_type": "code",
   "execution_count": 77,
   "metadata": {},
   "outputs": [
    {
     "data": {
      "text/plain": [
       "<AxesSubplot:xlabel='count', ylabel='Income Stability'>"
      ]
     },
     "execution_count": 77,
     "metadata": {},
     "output_type": "execute_result"
    },
    {
     "data": {
      "image/png": "[encoded data removed]",
      "text/plain": [
       "<Figure size 432x288 with 1 Axes>"
      ]
     },
     "metadata": {
      "needs_background": "light"
     },
     "output_type": "display_data"
    }
   ],
   "source": [
    "sns.countplot(y='Income Stability',data=df)"
   ]
  },
  {
   "cell_type": "code",
   "execution_count": 78,
   "metadata": {},
   "outputs": [
    {
     "data": {
      "text/plain": [
       "<AxesSubplot:xlabel='count', ylabel='Property Location'>"
      ]
     },
     "execution_count": 78,
     "metadata": {},
     "output_type": "execute_result"
    },
    {
     "data": {
      "image/png": "[encoded data removed]",
      "text/plain": [
       "<Figure size 432x288 with 1 Axes>"
      ]
     },
     "metadata": {
      "needs_background": "light"
     },
     "output_type": "display_data"
    }
   ],
   "source": [
    "sns.countplot(y='Property Location',data=df)"
   ]
  },
  {
   "cell_type": "code",
   "execution_count": 80,
   "metadata": {},
   "outputs": [
    {
     "data": {
      "text/plain": [
       "<AxesSubplot:xlabel='Loan Sanction Amount (USD)', ylabel='Count'>"
      ]
     },
     "execution_count": 80,
     "metadata": {},
     "output_type": "execute_result"
    },
    {
     "data": {
      "image/png": "[encoded data removed]",
      "text/plain": [
       "<Figure size 432x288 with 1 Axes>"
      ]
     },
     "metadata": {
      "needs_background": "light"
     },
     "output_type": "display_data"
    }
   ],
   "source": [
    "sns.histplot(x=\"Loan Sanction Amount (USD)\", data=df, bins=200)"
   ]
  },
  {
   "cell_type": "code",
   "execution_count": 81,
   "metadata": {},
   "outputs": [
    {
     "data": {
      "text/plain": [
       "Gender                         0\n",
       "Age                            0\n",
       "Income (USD)                  32\n",
       "Income Stability              12\n",
       "Property Age                  34\n",
       "Property Location              3\n",
       "Property Price                 0\n",
       "Loan Sanction Amount (USD)     0\n",
       "dtype: int64"
      ]
     },
     "execution_count": 81,
     "metadata": {},
     "output_type": "execute_result"
    }
   ],
   "source": [
    "# Null checking\n",
    "df.isnull().sum()"
   ]
  },
  {
   "cell_type": "code",
   "execution_count": 82,
   "metadata": {},
   "outputs": [
    {
     "data": {
      "text/plain": [
       "(47297, 8)"
      ]
     },
     "execution_count": 82,
     "metadata": {},
     "output_type": "execute_result"
    }
   ],
   "source": [
    "df.shape"
   ]
  },
  {
   "cell_type": "markdown",
   "metadata": {
    "id": "FWQ3y3T2f32N"
   },
   "source": [
    "## Preprocessing"
   ]
  },
  {
   "cell_type": "code",
   "execution_count": 50,
   "metadata": {
    "id": "6f647dba"
   },
   "outputs": [],
   "source": [
    "def preprocessing_data(df):\n",
    "    # Income (USD) and Property Age: use fillna() to insert missing values with mean data value\n",
    "    # Income Stability and Property Location: use fillna() to insert missing values with pre (fill) value data\n",
    "    df['Income (USD)'] = df['Income (USD)'].fillna(df['Income (USD)'].mean())\n",
    "    df['Income Stability'] = df['Income Stability'].fillna(method='ffill')\n",
    "    df['Property Age'] = df['Property Age'].fillna(df['Property Age'].mean())\n",
    "    df['Property Location'] = df['Property Location'].fillna(method='ffill')\n",
    "    return df"
   ]
  },
  {
   "cell_type": "code",
   "execution_count": 51,
   "metadata": {
    "id": "9KKiP3yd3m8t"
   },
   "outputs": [
    {
     "name": "stdout",
     "output_type": "stream",
     "text": [
      "Sample\n",
      " Gender                         0\n",
      "Age                            0\n",
      "Income (USD)                  32\n",
      "Income Stability              12\n",
      "Property Age                  34\n",
      "Property Location              3\n",
      "Property Price                 0\n",
      "Loan Sanction Amount (USD)     0\n",
      "dtype: int64\n",
      "Sample size: 47297\n",
      "\n",
      "Not null sample\n",
      " Gender                        0\n",
      "Age                           0\n",
      "Income (USD)                  0\n",
      "Income Stability              0\n",
      "Property Age                  0\n",
      "Property Location             0\n",
      "Property Price                0\n",
      "Loan Sanction Amount (USD)    0\n",
      "dtype: int64\n",
      "Not null sample size: 47297\n"
     ]
    }
   ],
   "source": [
    "# --- fill missing data\n",
    "print(\"Sample\\n\",df.isnull().sum())\n",
    "print(\"Sample size:\", len(df))\n",
    "df = preprocessing_data(df.copy())\n",
    "print(\"\\nNot null sample\\n\",df.isnull().sum())\n",
    "print(\"Not null sample size:\", len(df))"
   ]
  },
  {
   "cell_type": "markdown",
   "metadata": {
    "id": "hEu9oydOjZem"
   },
   "source": [
    "## Feature Engineering"
   ]
  },
  {
   "cell_type": "code",
   "execution_count": 1,
   "metadata": {
    "id": "ee4UO0d_2-ED"
   },
   "outputs": [],
   "source": [
    "def normalize_data(df):\n",
    "    normalized_data = df.copy()\n",
    "    normalized_data[\"Gender\"] = normalized_data[\"Gender\"].astype(\"category\").cat.codes\n",
    "    normalized_data[\"Income Stability\"] = normalized_data[\"Income Stability\"].astype(\"category\").cat.codes\n",
    "    normalized_data[\"Property Location\"] = normalized_data[\"Property Location\"].astype(\"category\").cat.codes\n",
    "    display(normalized_data.head())\n",
    "    display(normalized_data.corr())\n",
    "    return normalized_data"
   ]
  },
  {
   "cell_type": "code",
   "execution_count": 2,
   "metadata": {
    "id": "AmepvqLbknvO"
   },
   "outputs": [
    {
     "ename": "NameError",
     "evalue": "name 'df' is not defined",
     "output_type": "error",
     "traceback": [
      "\u001b[1;31m---------------------------------------------------------------------------\u001b[0m",
      "\u001b[1;31mNameError\u001b[0m                                 Traceback (most recent call last)",
      "Input \u001b[1;32mIn [2]\u001b[0m, in \u001b[0;36m<cell line: 4>\u001b[1;34m()\u001b[0m\n\u001b[0;32m      1\u001b[0m \u001b[38;5;66;03m# Heatmap\u001b[39;00m\n\u001b[0;32m      2\u001b[0m \u001b[38;5;28;01mimport\u001b[39;00m \u001b[38;5;21;01mseaborn\u001b[39;00m \u001b[38;5;28;01mas\u001b[39;00m \u001b[38;5;21;01msns\u001b[39;00m\n\u001b[1;32m----> 4\u001b[0m df \u001b[38;5;241m=\u001b[39m normalize_data(\u001b[43mdf\u001b[49m\u001b[38;5;241m.\u001b[39mcopy())\n\u001b[0;32m      5\u001b[0m sns\u001b[38;5;241m.\u001b[39mheatmap(df\u001b[38;5;241m.\u001b[39mcorr())\n",
      "\u001b[1;31mNameError\u001b[0m: name 'df' is not defined"
     ]
    }
   ],
   "source": [
    "# Heatmap\n",
    "import seaborn as sns\n",
    "\n",
    "df = normalize_data(df.copy())\n",
    "sns.heatmap(df.corr()) # Show heatmap after normalized data"
   ]
  },
  {
   "cell_type": "markdown",
   "metadata": {
    "id": "fzgR-i-gE1hc"
   },
   "source": [
    "# Apply machine learning model"
   ]
  },
  {
   "cell_type": "markdown",
   "metadata": {
    "id": "ppt3beFBjnID"
   },
   "source": [
    "## Train-test split"
   ]
  },
  {
   "cell_type": "code",
   "execution_count": 54,
   "metadata": {
    "id": "dodR58Ha3wgf"
   },
   "outputs": [],
   "source": [
    "from sklearn.model_selection import train_test_split\n",
    "from sklearn.metrics import mean_absolute_error"
   ]
  },
  {
   "cell_type": "code",
   "execution_count": 55,
   "metadata": {
    "id": "mBo9kxbmSZiF"
   },
   "outputs": [],
   "source": [
    "def prepare_X_y(df):\n",
    "    # Split data into X and y. Return two dataframes\n",
    "    X =df.iloc[:,0:6]\n",
    "    y = df.iloc[:,7]\n",
    "    return X, y\n",
    "\n",
    "X, y = prepare_X_y(df)"
   ]
  },
  {
   "cell_type": "code",
   "execution_count": 56,
   "metadata": {
    "id": "oanMcOPgScf7"
   },
   "outputs": [],
   "source": [
    "def split_train_test(X, y, train_size=0.7):\n",
    "    trainX, testX ,trainY, testY = train_test_split(X, y, train_size=train_size, random_state=2023)\n",
    "    print('Training:' + str(trainX.shape))\n",
    "    print('Test:' + str(testX.shape))\n",
    "\n",
    "    return trainX, testX ,trainY, testY"
   ]
  },
  {
   "cell_type": "code",
   "execution_count": 57,
   "metadata": {
    "id": "NFvHM8hA4vlr"
   },
   "outputs": [
    {
     "name": "stdout",
     "output_type": "stream",
     "text": [
      "Training:(33107, 6)\n",
      "Test:(14190, 6)\n"
     ]
    }
   ],
   "source": [
    "TRAIN_SIZE = 0.7\n",
    "\n",
    "trainX, testX ,trainY, testY = split_train_test(X, y, train_size=TRAIN_SIZE)"
   ]
  },
  {
   "cell_type": "markdown",
   "metadata": {
    "id": "1xECUjRuFy2e"
   },
   "source": [
    "## Basic Linear Regression"
   ]
  },
  {
   "cell_type": "code",
   "execution_count": 58,
   "metadata": {
    "id": "6aIK-of7E6Wv"
   },
   "outputs": [
    {
     "name": "stdout",
     "output_type": "stream",
     "text": [
      "mean absolute error of linear model on train set  22623.068794175044\n",
      "mean absolute error of linear model on test set  22427.70476491982\n",
      "[   173.9846128     -78.29274335     29.93409907 -13951.32352438\n",
      "    -21.69734625    -14.14010949]\n",
      "\n",
      "40990.58039022677\n"
     ]
    }
   ],
   "source": [
    "from sklearn.linear_model import LinearRegression\n",
    "\n",
    "\n",
    "def build_linear_model(X, y):\n",
    "    model = LinearRegression(fit_intercept=True)   \n",
    "    model.fit(X,y)\n",
    "    return model\n",
    "\n",
    "model = build_linear_model(trainX, trainY)\n",
    "# Compare on training dataset\n",
    "pred = model.predict(trainX)   \n",
    "print(\"mean absolute error of linear model on train set \", mean_absolute_error(y_pred=pred, y_true=trainY) )\n",
    "pred = model.predict(testX)   \n",
    "print(\"mean absolute error of linear model on test set \", mean_absolute_error(y_pred=pred, y_true=testY) )\n",
    "\n",
    "print(model.coef_) # print coefficient\n",
    "print()\n",
    "print(model.intercept_) # print intercept_\n"
   ]
  },
  {
   "cell_type": "code",
   "execution_count": 59,
   "metadata": {
    "id": "snbiK5iHFJb_"
   },
   "outputs": [
    {
     "name": "stdout",
     "output_type": "stream",
     "text": [
      "mean absolute error of linear model on train set  22812.45011786268\n",
      "mean absolute error of linear model on test set  22618.89944602703\n",
      "[ 0.          0.          8.04010557 -0.          0.          0.        ]\n",
      "\n",
      "25728.815623681352\n"
     ]
    }
   ],
   "source": [
    "from sklearn import linear_model\n",
    "def build_lasso_model(X, y):\n",
    "    \n",
    "    model = linear_model.LassoCV() #cv=5, random_state=0\n",
    "    model=model.fit(X,y)\n",
    "    return model\n",
    "\n",
    "model = build_lasso_model(trainX, trainY)\n",
    "# Compare on training dataset\n",
    "pred = model.predict(trainX)   \n",
    "print(\"mean absolute error of linear model on train set \", mean_absolute_error(y_pred=pred, y_true=trainY) )\n",
    "pred = model.predict(testX)   \n",
    "print(\"mean absolute error of linear model on test set \", mean_absolute_error(y_pred=pred, y_true=testY) )\n",
    "\n",
    "print(model.coef_) # print coefficient\n",
    "print()\n",
    "print(model.intercept_) # print intercept_"
   ]
  },
  {
   "cell_type": "code",
   "execution_count": 60,
   "metadata": {},
   "outputs": [
    {
     "name": "stdout",
     "output_type": "stream",
     "text": [
      "mean absolute error of linear model on train set  22624.025129630445\n",
      "mean absolute error of linear model on test set  22428.939580799553\n",
      "[   174.0157557     -78.23968977     29.9302578  -13944.69273944\n",
      "    -21.70291836    -14.12857465]\n",
      "\n",
      "41006.786762416596\n"
     ]
    }
   ],
   "source": [
    "from sklearn import linear_model\n",
    "from numpy import arange\n",
    "\n",
    "\n",
    "def build_ridge_model(X, y):\n",
    "    model = linear_model.RidgeCV(alphas=[1e-3, 1e-2, 1e-1, 1])\n",
    "    model.fit(X,y)\n",
    "\n",
    "    return model\n",
    "\n",
    "model = build_ridge_model(trainX, trainY)\n",
    "# Compare on training dataset\n",
    "pred = model.predict(trainX)   \n",
    "print(\"mean absolute error of linear model on train set \", mean_absolute_error(y_pred=pred, y_true=trainY) )\n",
    "pred = model.predict(testX)   \n",
    "print(\"mean absolute error of linear model on test set \", mean_absolute_error(y_pred=pred, y_true=testY) )\n",
    "\n",
    "print(model.coef_) # print coefficient\n",
    "print()\n",
    "print(model.intercept_) # print intercept_\n"
   ]
  },
  {
   "cell_type": "code",
   "execution_count": 61,
   "metadata": {
    "id": "hOZ7NPAG53rg"
   },
   "outputs": [
    {
     "name": "stdout",
     "output_type": "stream",
     "text": [
      "mean absolute error of linear model on train set  22813.96507139252\n",
      "mean absolute error of linear model on test set  22620.87270893601\n",
      "[ 0.          0.          4.12158238 -0.          3.90542515  0.        ]\n",
      "\n",
      "25763.150168079825\n"
     ]
    }
   ],
   "source": [
    "from sklearn import linear_model\n",
    "\n",
    "def build_elastic_model(X, y):\n",
    "    model = linear_model.ElasticNetCV() #cv=5, random_state=0\n",
    "    model.fit(X,y)\n",
    "    \n",
    "    return model\n",
    "\n",
    "model = build_elastic_model(trainX, trainY)\n",
    "# Compare on training dataset\n",
    "pred = model.predict(trainX)   \n",
    "print(\"mean absolute error of linear model on train set \", mean_absolute_error(y_pred=pred, y_true=trainY) )\n",
    "pred = model.predict(testX)   \n",
    "print(\"mean absolute error of linear model on test set \", mean_absolute_error(y_pred=pred, y_true=testY) )\n",
    "\n",
    "print(model.coef_) # print coefficient\n",
    "print()\n",
    "print(model.intercept_) # print intercept_\n"
   ]
  },
  {
   "cell_type": "markdown",
   "metadata": {
    "id": "4SDs25IOFoBw"
   },
   "source": [
    "## Polynomial Transform "
   ]
  },
  {
   "cell_type": "markdown",
   "metadata": {
    "id": "mkeldd8AF_Ju"
   },
   "source": [
    "When the data feature does not conform to a linear function, a linear regression cannot be applied directly to the original data. Then, there are many possibilities that the data feature conforms to the polynomial function. Scikit-Learn supports converting data features to polynomials through ``PolynomialFeatures``.\n",
    "\n",
    "$$\n",
    "y = a_0 + a_1 x + a_2 x^2 + a_3 x^3 + \\cdots\n",
    "$$\n",
    "\n",
    "The formula above uses the transformation of the value $x$ from one dimension to the other, with the aim of being able to use linear regression to find complex relationships between $x$ and $y$."
   ]
  },
  {
   "cell_type": "code",
   "execution_count": 21,
   "metadata": {
    "id": "PXhjw_utFxzS"
   },
   "outputs": [
    {
     "name": "stdout",
     "output_type": "stream",
     "text": [
      "mean absolute error of linear model (with poly transform) on train set  22370.775713859523\n",
      "mean absolute error of linear model (with poly transform) on test set  22169.871369326924\n"
     ]
    }
   ],
   "source": [
    "#Linear Regression with Polynomial Transform\n",
    "from sklearn.preprocessing import PolynomialFeatures\n",
    "from sklearn.pipeline import make_pipeline\n",
    "\n",
    "def build_pipeline(X, y):\n",
    "    poly_model = make_pipeline(PolynomialFeatures(2, include_bias=False), LinearRegression())\n",
    "    poly_model.fit(X, y)  \n",
    "\n",
    "    return poly_model\n",
    "\n",
    "poly_model = build_pipeline(trainX, trainY)\n",
    "\n",
    "# Compare on training dataset\n",
    "poly_pred = poly_model.predict(trainX)   \n",
    "print(\"mean absolute error of linear model (with poly transform) on train set \", mean_absolute_error(y_pred=poly_pred, y_true=trainY) )\n",
    "\n",
    "poly_pred = poly_model.predict(testX)\n",
    "print(\"mean absolute error of linear model (with poly transform) on test set \", mean_absolute_error(y_pred=poly_pred, y_true=testY))"
   ]
  },
  {
   "cell_type": "markdown",
   "metadata": {},
   "source": [
    "##### Polynomial of order 2 compared with the previous results has the average absolute error of the linear model on the train set and test set is the lowest. This proves that the linear model (with poly transform) is more efficient than ."
   ]
  },
  {
   "cell_type": "code",
   "execution_count": 23,
   "metadata": {},
   "outputs": [
    {
     "name": "stdout",
     "output_type": "stream",
     "text": [
      "mean absolute error of linear model (with poly transform) on train set  24793.0971507629\n",
      "mean absolute error of linear model (with poly transform) on test set  25634.35796920752\n"
     ]
    }
   ],
   "source": [
    "#Linear Regression with Polynomial Transform\n",
    "from sklearn.preprocessing import PolynomialFeatures\n",
    "from sklearn.pipeline import make_pipeline\n",
    "\n",
    "def build_pipeline(X, y):\n",
    "    poly_model = make_pipeline(PolynomialFeatures(9, include_bias=False), LinearRegression())\n",
    "    poly_model.fit(X, y)  \n",
    "\n",
    "    return poly_model\n",
    "\n",
    "poly_model = build_pipeline(trainX, trainY)\n",
    "\n",
    "# Compare on training dataset\n",
    "poly_pred = poly_model.predict(trainX)   \n",
    "print(\"mean absolute error of linear model (with poly transform) on train set \", mean_absolute_error(y_pred=poly_pred, y_true=trainY) )\n",
    "\n",
    "poly_pred = poly_model.predict(testX)\n",
    "print(\"mean absolute error of linear model (with poly transform) on test set \", mean_absolute_error(y_pred=poly_pred, y_true=testY))"
   ]
  },
  {
   "cell_type": "markdown",
   "metadata": {},
   "source": [
    "#### When increasing degree gradually, the absolute average error of the linear model on the train and the test set gives worse results than before. Besides, if the increase is too large, the processing speed will be very slow or unable to run to give results.\n"
   ]
  }
 ],
 "metadata": {
  "colab": {
   "provenance": []
  },
  "kernelspec": {
   "display_name": "Python 3 (ipykernel)",
   "language": "python",
   "name": "python3"
  },
  "language_info": {
   "codemirror_mode": {
    "name": "ipython",
    "version": 3
   },
   "file_extension": ".py",
   "mimetype": "text/x-python",
   "name": "python",
   "nbconvert_exporter": "python",
   "pygments_lexer": "ipython3",
   "version": "3.9.12"
  }
 },
 "nbformat": 4,
 "nbformat_minor": 1
}
